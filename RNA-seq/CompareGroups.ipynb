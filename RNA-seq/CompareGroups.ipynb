{
 "cells": [
  {
   "cell_type": "markdown",
   "id": "flexible-substitute",
   "metadata": {},
   "source": [
    "## Group comparision analysis example for VRE. \n",
    "Example using TCGA ESCA (Easophageal cancer) obtained from Broad Inst TCGA data repo Firebrowser (<http://firebrowse.org>)\n",
    "\n",
    "### Assumptions for analysis \n",
    "\n",
    "* User knows programming to be able to clean data and put it in the right format\n",
    "* Two input data files: Gene expression data from RNA-seq (raw counts), and clinical data\n",
    "* RNA-seq file format : Rows are features (gene names), Columns are samples. Only tumor samples were chosen for this analysis\n",
    "* RNA-seq file format : Features are assumed to be in this format `GeneName|GeneID` . Example shown here is from public TCGA data obtained from Firebrowser. \n",
    "* Clinical data: This is a cleaned file that contains two columns - patient ids and vital status (Dead/Alive)\n",
    "* User knows to identify baseline and comparison groups for analysis\n",
    "\n",
    "## Goal of this analysis\n",
    "* Use the gene expression data from RNA-seq (raw counts) obtained from tumor tissue of Esophageal cancer patients to compare Dead and Alive patients.\n",
    "* Baseline Group (less screwed up group) = Alive\n",
    "* Comparison Group (screwed up group) = Dead\n",
    "\n",
    "## Analysis Steps\n",
    "\n",
    "* Read in gene exp data\n",
    "* Read in clinical data file\n",
    "* Use the clinical data to separate gene expression data for baseline and comparison groups\n",
    "* Set labels for the groups\n",
    "* Call function to perform the group comparison analysis. This function will use the Bioconducor package `EdgeR` <https://bioconductor.org/packages/release/bioc/html/edgeR.html> . The package requires the RNA-seq data to be in the form of raw counts.\n",
    "* Read in the results of group comp analysis \n",
    "* Select threshold for short listing results. Ideal threshold would result in number of genes  less than 700 or 1000.\n",
    "* Call function to perform Enrichment Analysis. This is done using the EnrichR R package. <https://cran.r-project.org/web/packages/enrichR/index.html> "
   ]
  },
  {
   "cell_type": "markdown",
   "id": "meaningful-amendment",
   "metadata": {},
   "source": [
    "### Step 0 - Before we start\n",
    "* Use terminal (shell) to copy the input files from the storage bucket to the `/home/jupyter/tutorials/storage/input` folder. \n",
    "* Upload code files to the `/home/jupyter/tutorials/storage/code` folder\n",
    "* Below is an example of how to use the R API package to make a local copy of the input files from google storage. But it can only copy one file at a time"
   ]
  },
  {
   "cell_type": "code",
   "execution_count": 2,
   "id": "indie-picking",
   "metadata": {},
   "outputs": [
    {
     "name": "stderr",
     "output_type": "stream",
     "text": [
      "2021-04-14 20:24:39 -- Saved TCGA_ESCA_ClinDataVitalStatus.tsv to /home/jupyter/tutorials/storage/input/TCGA_ESCA_ClinDataVitalStatus2.tsv (4 Kb)\n",
      "\n"
     ]
    },
    {
     "data": {
      "text/html": [
       "TRUE"
      ],
      "text/latex": [
       "TRUE"
      ],
      "text/markdown": [
       "TRUE"
      ],
      "text/plain": [
       "[1] TRUE"
      ]
     },
     "metadata": {},
     "output_type": "display_data"
    }
   ],
   "source": [
    "# Example code\n",
    "#makes local copy of the csv file\n",
    "library(googleCloudStorageR)\n",
    "\n",
    "#setting JSON authorization \n",
    "gcs_auth(\"/home/jupyter/tutorials/jsonauth/vre-pipeline-prototype-75d9d4263e97.json\") \n",
    "\n",
    "#download object from google bucket -- this is a test example\n",
    "gcs_get_object(object_name = \"TCGA_ESCA_ClinDataVitalStatus.tsv\", \n",
    "                        bucket = \"vre-use-case-rna-seq-input\", \n",
    "               saveToDisk = \"/home/jupyter/tutorials/storage/input/TCGA_ESCA_ClinDataVitalStatus2.tsv\", \n",
    "               overwrite = TRUE)"
   ]
  },
  {
   "cell_type": "markdown",
   "id": "continuous-scope",
   "metadata": {},
   "source": [
    "### Install packages "
   ]
  },
  {
   "cell_type": "code",
   "execution_count": 46,
   "id": "viral-boating",
   "metadata": {},
   "outputs": [
    {
     "name": "stderr",
     "output_type": "stream",
     "text": [
      "Installing package into ‘/home/jupyter/.R/library’\n",
      "(as ‘lib’ is unspecified)\n",
      "\n",
      "'getOption(\"repos\")' replaces Bioconductor standard repositories, see\n",
      "'?repositories' for details\n",
      "\n",
      "replacement repositories:\n",
      "    CRAN: https://cloud.r-project.org\n",
      "\n",
      "\n",
      "Bioconductor version 3.10 (BiocManager 1.30.12), R 3.6.3 (2020-02-29)\n",
      "\n",
      "Installing package(s) 'edgeR'\n",
      "\n",
      "Installation paths not writeable, unable to update packages\n",
      "  path: /usr/lib/R/library\n",
      "  packages:\n",
      "    boot, class, cluster, codetools, KernSmooth, lattice, MASS, Matrix, mgcv,\n",
      "    nlme, nnet, spatial, survival\n",
      "  path: /usr/local/lib/R/site-library\n",
      "  packages:\n",
      "    broom, cli, cpp11, dbplyr, devtools, gargle, gert, gh, googleAuthR, keras,\n",
      "    packrat, pillar, pkgload, processx, rbibutils, remotes, reprex, tinytex,\n",
      "    vctrs, viridisLite\n",
      "\n"
     ]
    }
   ],
   "source": [
    "#Install packages\n",
    "install.packages(\"openxlsx\")\n",
    "library(stringr)\n",
    "\n",
    "if (!requireNamespace(\"BiocManager\", quietly = TRUE))\n",
    "    install.packages(\"BiocManager\")\n",
    "\n",
    "BiocManager::install(\"edgeR\")\n",
    "library(edgeR)\n",
    "library(openxlsx)"
   ]
  },
  {
   "cell_type": "markdown",
   "id": "opening-bullet",
   "metadata": {},
   "source": [
    "### Location of input files"
   ]
  },
  {
   "cell_type": "code",
   "execution_count": 24,
   "id": "genetic-newspaper",
   "metadata": {},
   "outputs": [],
   "source": [
    "enrichRFileLocation <- \"/home/jupyter/tutorials/storage/input/20201203-EnrichR-Databases.txt\"\n",
    "\n",
    "geneExpLocation <- \"/home/jupyter/tutorials/storage/input/20210318_TCGA_ESCA_RNAseq_GeneExp_RawCounts_Tumor.tsv\"\n",
    "\n",
    "clinFileLocation <- \"/home/jupyter/tutorials/storage/input/TCGA_ESCA_ClinDataVitalStatus.tsv\"\n",
    "\n",
    "groupCompOutputLocation <- \"/home/jupyter/tutorials/storage/output/edgeR_ExactTest.csv\""
   ]
  },
  {
   "cell_type": "markdown",
   "id": "sharp-routine",
   "metadata": {},
   "source": [
    "### ** Part 1 - Group comparison analysis **"
   ]
  },
  {
   "cell_type": "markdown",
   "id": "motivated-counter",
   "metadata": {},
   "source": [
    "#### Read in gene expression file"
   ]
  },
  {
   "cell_type": "code",
   "execution_count": 10,
   "id": "wired-probability",
   "metadata": {},
   "outputs": [
    {
     "data": {
      "text/html": [
       "<table class=\"dataframe\">\n",
       "<caption>A data.frame: 6 × 4</caption>\n",
       "<thead>\n",
       "\t<tr><th></th><th scope=col>TCGA.2H.A9GF</th><th scope=col>TCGA.2H.A9GG</th><th scope=col>TCGA.2H.A9GH</th><th scope=col>TCGA.2H.A9GI</th></tr>\n",
       "\t<tr><th></th><th scope=col>&lt;dbl&gt;</th><th scope=col>&lt;dbl&gt;</th><th scope=col>&lt;dbl&gt;</th><th scope=col>&lt;dbl&gt;</th></tr>\n",
       "</thead>\n",
       "<tbody>\n",
       "\t<tr><th scope=row>?|100130426</th><td>   1.05</td><td>   0.00</td><td>   1.02</td><td>   0.00</td></tr>\n",
       "\t<tr><th scope=row>?|100133144</th><td>  74.63</td><td>  54.07</td><td>  51.03</td><td>  46.24</td></tr>\n",
       "\t<tr><th scope=row>?|100134869</th><td>  45.37</td><td>  25.93</td><td>  62.97</td><td>   8.76</td></tr>\n",
       "\t<tr><th scope=row>?|10357</th><td> 165.00</td><td>  70.00</td><td> 201.98</td><td> 111.71</td></tr>\n",
       "\t<tr><th scope=row>?|10431</th><td>2158.00</td><td>2061.00</td><td>2078.00</td><td>1455.00</td></tr>\n",
       "\t<tr><th scope=row>?|136542</th><td>   0.00</td><td>   0.00</td><td>   0.00</td><td>   0.00</td></tr>\n",
       "</tbody>\n",
       "</table>\n"
      ],
      "text/latex": [
       "A data.frame: 6 × 4\n",
       "\\begin{tabular}{r|llll}\n",
       "  & TCGA.2H.A9GF & TCGA.2H.A9GG & TCGA.2H.A9GH & TCGA.2H.A9GI\\\\\n",
       "  & <dbl> & <dbl> & <dbl> & <dbl>\\\\\n",
       "\\hline\n",
       "\t?\\textbar{}100130426 &    1.05 &    0.00 &    1.02 &    0.00\\\\\n",
       "\t?\\textbar{}100133144 &   74.63 &   54.07 &   51.03 &   46.24\\\\\n",
       "\t?\\textbar{}100134869 &   45.37 &   25.93 &   62.97 &    8.76\\\\\n",
       "\t?\\textbar{}10357 &  165.00 &   70.00 &  201.98 &  111.71\\\\\n",
       "\t?\\textbar{}10431 & 2158.00 & 2061.00 & 2078.00 & 1455.00\\\\\n",
       "\t?\\textbar{}136542 &    0.00 &    0.00 &    0.00 &    0.00\\\\\n",
       "\\end{tabular}\n"
      ],
      "text/markdown": [
       "\n",
       "A data.frame: 6 × 4\n",
       "\n",
       "| <!--/--> | TCGA.2H.A9GF &lt;dbl&gt; | TCGA.2H.A9GG &lt;dbl&gt; | TCGA.2H.A9GH &lt;dbl&gt; | TCGA.2H.A9GI &lt;dbl&gt; |\n",
       "|---|---|---|---|---|\n",
       "| ?|100130426 |    1.05 |    0.00 |    1.02 |    0.00 |\n",
       "| ?|100133144 |   74.63 |   54.07 |   51.03 |   46.24 |\n",
       "| ?|100134869 |   45.37 |   25.93 |   62.97 |    8.76 |\n",
       "| ?|10357 |  165.00 |   70.00 |  201.98 |  111.71 |\n",
       "| ?|10431 | 2158.00 | 2061.00 | 2078.00 | 1455.00 |\n",
       "| ?|136542 |    0.00 |    0.00 |    0.00 |    0.00 |\n",
       "\n"
      ],
      "text/plain": [
       "            TCGA.2H.A9GF TCGA.2H.A9GG TCGA.2H.A9GH TCGA.2H.A9GI\n",
       "?|100130426    1.05         0.00         1.02         0.00     \n",
       "?|100133144   74.63        54.07        51.03        46.24     \n",
       "?|100134869   45.37        25.93        62.97         8.76     \n",
       "?|10357      165.00        70.00       201.98       111.71     \n",
       "?|10431     2158.00      2061.00      2078.00      1455.00     \n",
       "?|136542       0.00         0.00         0.00         0.00     "
      ]
     },
     "metadata": {},
     "output_type": "display_data"
    },
    {
     "data": {
      "text/html": [
       "<table class=\"dataframe\">\n",
       "<caption>A data.frame: 6 × 3</caption>\n",
       "<thead>\n",
       "\t<tr><th></th><th scope=col>TCGA.2H.A9GF</th><th scope=col>TCGA.2H.A9GG</th><th scope=col>TCGA.2H.A9GH</th></tr>\n",
       "\t<tr><th></th><th scope=col>&lt;dbl&gt;</th><th scope=col>&lt;dbl&gt;</th><th scope=col>&lt;dbl&gt;</th></tr>\n",
       "</thead>\n",
       "<tbody>\n",
       "\t<tr><th scope=row>DLGAP2|9228</th><td>   3</td><td>  11</td><td>  10</td></tr>\n",
       "\t<tr><th scope=row>DLGAP3|58512</th><td>  32</td><td> 943</td><td>  23</td></tr>\n",
       "\t<tr><th scope=row>DLGAP4|22839</th><td>7327</td><td>8041</td><td>5178</td></tr>\n",
       "\t<tr><th scope=row>DLGAP5|9787</th><td>2284</td><td> 650</td><td>2744</td></tr>\n",
       "\t<tr><th scope=row>DLK1|8788</th><td>   1</td><td>   0</td><td>   0</td></tr>\n",
       "\t<tr><th scope=row>DLK2|65989</th><td>   7</td><td> 175</td><td>   8</td></tr>\n",
       "</tbody>\n",
       "</table>\n"
      ],
      "text/latex": [
       "A data.frame: 6 × 3\n",
       "\\begin{tabular}{r|lll}\n",
       "  & TCGA.2H.A9GF & TCGA.2H.A9GG & TCGA.2H.A9GH\\\\\n",
       "  & <dbl> & <dbl> & <dbl>\\\\\n",
       "\\hline\n",
       "\tDLGAP2\\textbar{}9228 &    3 &   11 &   10\\\\\n",
       "\tDLGAP3\\textbar{}58512 &   32 &  943 &   23\\\\\n",
       "\tDLGAP4\\textbar{}22839 & 7327 & 8041 & 5178\\\\\n",
       "\tDLGAP5\\textbar{}9787 & 2284 &  650 & 2744\\\\\n",
       "\tDLK1\\textbar{}8788 &    1 &    0 &    0\\\\\n",
       "\tDLK2\\textbar{}65989 &    7 &  175 &    8\\\\\n",
       "\\end{tabular}\n"
      ],
      "text/markdown": [
       "\n",
       "A data.frame: 6 × 3\n",
       "\n",
       "| <!--/--> | TCGA.2H.A9GF &lt;dbl&gt; | TCGA.2H.A9GG &lt;dbl&gt; | TCGA.2H.A9GH &lt;dbl&gt; |\n",
       "|---|---|---|---|\n",
       "| DLGAP2|9228 |    3 |   11 |   10 |\n",
       "| DLGAP3|58512 |   32 |  943 |   23 |\n",
       "| DLGAP4|22839 | 7327 | 8041 | 5178 |\n",
       "| DLGAP5|9787 | 2284 |  650 | 2744 |\n",
       "| DLK1|8788 |    1 |    0 |    0 |\n",
       "| DLK2|65989 |    7 |  175 |    8 |\n",
       "\n"
      ],
      "text/plain": [
       "             TCGA.2H.A9GF TCGA.2H.A9GG TCGA.2H.A9GH\n",
       "DLGAP2|9228     3           11           10        \n",
       "DLGAP3|58512   32          943           23        \n",
       "DLGAP4|22839 7327         8041         5178        \n",
       "DLGAP5|9787  2284          650         2744        \n",
       "DLK1|8788       1            0            0        \n",
       "DLK2|65989      7          175            8        "
      ]
     },
     "metadata": {},
     "output_type": "display_data"
    }
   ],
   "source": [
    "#20531 rows features, 173 tumor samples columns\n",
    "geneExp <- read.csv(file = geneExpLocation, \n",
    "                    sep=\"\\t\", stringsAsFactors = F, row.names = 1)\n",
    "\n",
    "# First 20 rows - no gene names\n",
    "head(geneExp[1:20, 1:4])\n",
    "\n",
    "#View Rows 5000-5010 - can see gene names\n",
    "head(geneExp[5000:5010,1:3])"
   ]
  },
  {
   "cell_type": "markdown",
   "id": "excited-production",
   "metadata": {},
   "source": [
    "#### Read in cleaned clinical data"
   ]
  },
  {
   "cell_type": "code",
   "execution_count": 11,
   "id": "included-internet",
   "metadata": {},
   "outputs": [
    {
     "data": {
      "text/html": [
       "<table class=\"dataframe\">\n",
       "<caption>A data.frame: 6 × 2</caption>\n",
       "<thead>\n",
       "\t<tr><th></th><th scope=col>V1</th><th scope=col>V2</th></tr>\n",
       "\t<tr><th></th><th scope=col>&lt;chr&gt;</th><th scope=col>&lt;chr&gt;</th></tr>\n",
       "</thead>\n",
       "<tbody>\n",
       "\t<tr><th scope=row>1</th><td>TCGA.IC.A6RF</td><td>alive</td></tr>\n",
       "\t<tr><th scope=row>2</th><td>TCGA.JY.A6FB</td><td>alive</td></tr>\n",
       "\t<tr><th scope=row>3</th><td>TCGA.JY.A938</td><td>alive</td></tr>\n",
       "\t<tr><th scope=row>4</th><td>TCGA.L5.A43I</td><td>dead </td></tr>\n",
       "\t<tr><th scope=row>5</th><td>TCGA.L5.A43J</td><td>dead </td></tr>\n",
       "\t<tr><th scope=row>6</th><td>TCGA.L5.A43M</td><td>alive</td></tr>\n",
       "</tbody>\n",
       "</table>\n"
      ],
      "text/latex": [
       "A data.frame: 6 × 2\n",
       "\\begin{tabular}{r|ll}\n",
       "  & V1 & V2\\\\\n",
       "  & <chr> & <chr>\\\\\n",
       "\\hline\n",
       "\t1 & TCGA.IC.A6RF & alive\\\\\n",
       "\t2 & TCGA.JY.A6FB & alive\\\\\n",
       "\t3 & TCGA.JY.A938 & alive\\\\\n",
       "\t4 & TCGA.L5.A43I & dead \\\\\n",
       "\t5 & TCGA.L5.A43J & dead \\\\\n",
       "\t6 & TCGA.L5.A43M & alive\\\\\n",
       "\\end{tabular}\n"
      ],
      "text/markdown": [
       "\n",
       "A data.frame: 6 × 2\n",
       "\n",
       "| <!--/--> | V1 &lt;chr&gt; | V2 &lt;chr&gt; |\n",
       "|---|---|---|\n",
       "| 1 | TCGA.IC.A6RF | alive |\n",
       "| 2 | TCGA.JY.A6FB | alive |\n",
       "| 3 | TCGA.JY.A938 | alive |\n",
       "| 4 | TCGA.L5.A43I | dead  |\n",
       "| 5 | TCGA.L5.A43J | dead  |\n",
       "| 6 | TCGA.L5.A43M | alive |\n",
       "\n"
      ],
      "text/plain": [
       "  V1           V2   \n",
       "1 TCGA.IC.A6RF alive\n",
       "2 TCGA.JY.A6FB alive\n",
       "3 TCGA.JY.A938 alive\n",
       "4 TCGA.L5.A43I dead \n",
       "5 TCGA.L5.A43J dead \n",
       "6 TCGA.L5.A43M alive"
      ]
     },
     "metadata": {},
     "output_type": "display_data"
    }
   ],
   "source": [
    "## Read in cleaned clinical data\n",
    "\n",
    "# 185 sample  IDs\n",
    "clinData <- read.csv(file = clinFileLocation,\n",
    "                     sep = \"\\t\", stringsAsFactors = F)\n",
    "\n",
    "head(clinData)\n"
   ]
  },
  {
   "cell_type": "markdown",
   "id": "occasional-miami",
   "metadata": {},
   "source": [
    "#### Subset clinical data  into two data frames - dead and alive"
   ]
  },
  {
   "cell_type": "code",
   "execution_count": 12,
   "id": "surprising-voltage",
   "metadata": {},
   "outputs": [],
   "source": [
    "## Subset clinical data patients into two data frames\n",
    "\n",
    "clinDataAlive <- subset(clinData, V2 == \"alive\") #128 patients\n",
    "clinDataDead <- subset(clinData, V2 == \"dead\") #57 patients dead\n"
   ]
  },
  {
   "cell_type": "code",
   "execution_count": 13,
   "id": "novel-headquarters",
   "metadata": {},
   "outputs": [
    {
     "data": {
      "text/html": [
       "<style>\n",
       ".list-inline {list-style: none; margin:0; padding: 0}\n",
       ".list-inline>li {display: inline-block}\n",
       ".list-inline>li:not(:last-child)::after {content: \"\\00b7\"; padding: 0 .5ex}\n",
       "</style>\n",
       "<ol class=list-inline><li>128</li><li>2</li></ol>\n"
      ],
      "text/latex": [
       "\\begin{enumerate*}\n",
       "\\item 128\n",
       "\\item 2\n",
       "\\end{enumerate*}\n"
      ],
      "text/markdown": [
       "1. 128\n",
       "2. 2\n",
       "\n",
       "\n"
      ],
      "text/plain": [
       "[1] 128   2"
      ]
     },
     "metadata": {},
     "output_type": "display_data"
    }
   ],
   "source": [
    "#checks\n",
    "dim(clinDataAlive)"
   ]
  },
  {
   "cell_type": "markdown",
   "id": "center-davis",
   "metadata": {},
   "source": [
    "#### Subset gene exp data  into two data frames - dead and alive"
   ]
  },
  {
   "cell_type": "code",
   "execution_count": 14,
   "id": "casual-sensitivity",
   "metadata": {},
   "outputs": [],
   "source": [
    "## Subset gene exp data into two data frames - alive and dead\n",
    "#Make sure data is numerical format, not strings\n",
    "\n",
    "#Subset alive patients\n",
    "matchBaseline <- which(colnames(geneExp) %in% clinDataAlive$V1)\n",
    "geneExpBaseline <- geneExp[,matchBaseline] #124 samples alive\n",
    "\n",
    "#Subset dead patients\n",
    "matchComparison <- which(colnames(geneExp) %in% clinDataDead$V1)\n",
    "geneExpComparison<- geneExp[,matchComparison] # 49 samples dead\n",
    "\n",
    "#Get number of columns\n",
    "nColBaseline <- ncol(geneExpBaseline)\n",
    "nColComparision <- ncol(geneExpComparison)"
   ]
  },
  {
   "cell_type": "code",
   "execution_count": 16,
   "id": "natural-ireland",
   "metadata": {},
   "outputs": [
    {
     "data": {
      "text/html": [
       "<style>\n",
       ".list-inline {list-style: none; margin:0; padding: 0}\n",
       ".list-inline>li {display: inline-block}\n",
       ".list-inline>li:not(:last-child)::after {content: \"\\00b7\"; padding: 0 .5ex}\n",
       "</style>\n",
       "<ol class=list-inline><li>20531</li><li>124</li></ol>\n"
      ],
      "text/latex": [
       "\\begin{enumerate*}\n",
       "\\item 20531\n",
       "\\item 124\n",
       "\\end{enumerate*}\n"
      ],
      "text/markdown": [
       "1. 20531\n",
       "2. 124\n",
       "\n",
       "\n"
      ],
      "text/plain": [
       "[1] 20531   124"
      ]
     },
     "metadata": {},
     "output_type": "display_data"
    },
    {
     "data": {
      "text/html": [
       "<style>\n",
       ".list-inline {list-style: none; margin:0; padding: 0}\n",
       ".list-inline>li {display: inline-block}\n",
       ".list-inline>li:not(:last-child)::after {content: \"\\00b7\"; padding: 0 .5ex}\n",
       "</style>\n",
       "<ol class=list-inline><li>20531</li><li>49</li></ol>\n"
      ],
      "text/latex": [
       "\\begin{enumerate*}\n",
       "\\item 20531\n",
       "\\item 49\n",
       "\\end{enumerate*}\n"
      ],
      "text/markdown": [
       "1. 20531\n",
       "2. 49\n",
       "\n",
       "\n"
      ],
      "text/plain": [
       "[1] 20531    49"
      ]
     },
     "metadata": {},
     "output_type": "display_data"
    }
   ],
   "source": [
    "#checks\n",
    "dim(geneExpBaseline)\n",
    "dim(geneExpComparison)"
   ]
  },
  {
   "cell_type": "markdown",
   "id": "facial-revolution",
   "metadata": {},
   "source": [
    "#### Prep data in the right format for the function for Group Comp"
   ]
  },
  {
   "cell_type": "code",
   "execution_count": 17,
   "id": "suffering-slovenia",
   "metadata": {},
   "outputs": [],
   "source": [
    "## Prep data to call function for Group Comp\n",
    "\n",
    "# RNA-seq data for function\n",
    "inputForGroupComp <- cbind(geneExpBaseline, geneExpComparison)\n",
    "\n",
    "labelsForGroupComp <- c(rep(\"alive\", nColBaseline),\n",
    "                          rep(\"dead\", nColComparision))"
   ]
  },
  {
   "cell_type": "code",
   "execution_count": 19,
   "id": "following-click",
   "metadata": {},
   "outputs": [
    {
     "data": {
      "text/html": [
       "<style>\n",
       ".list-inline {list-style: none; margin:0; padding: 0}\n",
       ".list-inline>li {display: inline-block}\n",
       ".list-inline>li:not(:last-child)::after {content: \"\\00b7\"; padding: 0 .5ex}\n",
       "</style>\n",
       "<ol class=list-inline><li>20531</li><li>173</li></ol>\n"
      ],
      "text/latex": [
       "\\begin{enumerate*}\n",
       "\\item 20531\n",
       "\\item 173\n",
       "\\end{enumerate*}\n"
      ],
      "text/markdown": [
       "1. 20531\n",
       "2. 173\n",
       "\n",
       "\n"
      ],
      "text/plain": [
       "[1] 20531   173"
      ]
     },
     "metadata": {},
     "output_type": "display_data"
    },
    {
     "data": {
      "text/html": [
       "<style>\n",
       ".list-inline {list-style: none; margin:0; padding: 0}\n",
       ".list-inline>li {display: inline-block}\n",
       ".list-inline>li:not(:last-child)::after {content: \"\\00b7\"; padding: 0 .5ex}\n",
       "</style>\n",
       "<ol class=list-inline><li>'alive'</li><li>'alive'</li><li>'alive'</li><li>'alive'</li><li>'alive'</li><li>'alive'</li></ol>\n"
      ],
      "text/latex": [
       "\\begin{enumerate*}\n",
       "\\item 'alive'\n",
       "\\item 'alive'\n",
       "\\item 'alive'\n",
       "\\item 'alive'\n",
       "\\item 'alive'\n",
       "\\item 'alive'\n",
       "\\end{enumerate*}\n"
      ],
      "text/markdown": [
       "1. 'alive'\n",
       "2. 'alive'\n",
       "3. 'alive'\n",
       "4. 'alive'\n",
       "5. 'alive'\n",
       "6. 'alive'\n",
       "\n",
       "\n"
      ],
      "text/plain": [
       "[1] \"alive\" \"alive\" \"alive\" \"alive\" \"alive\" \"alive\""
      ]
     },
     "metadata": {},
     "output_type": "display_data"
    }
   ],
   "source": [
    "#checks\n",
    "dim(inputForGroupComp)\n",
    "head(labelsForGroupComp)"
   ]
  },
  {
   "cell_type": "markdown",
   "id": "assigned-prague",
   "metadata": {},
   "source": [
    "#### Data is now prepped. Call function to run Group comp analysis using EdgeR package"
   ]
  },
  {
   "cell_type": "code",
   "execution_count": 20,
   "id": "biblical-fence",
   "metadata": {},
   "outputs": [
    {
     "name": "stderr",
     "output_type": "stream",
     "text": [
      "Loading required package: limma\n",
      "\n"
     ]
    }
   ],
   "source": [
    "## call function to run EdgeR\n",
    "source(\"/home/jupyter/tutorials/storage/code/funcSubsetForEdgeR.R\")\n"
   ]
  },
  {
   "cell_type": "code",
   "execution_count": 22,
   "id": "collectible-assumption",
   "metadata": {},
   "outputs": [
    {
     "name": "stdout",
     "output_type": "stream",
     "text": [
      "Called from: funcSubsetForEdgeR(inputData = inputForGroupComp, groupLabels = labelsForGroupComp, \n",
      "    baselineGrp = \"alive\", compGrp = \"dead\", outputFileLocation = \"/home/jupyter/tutorials/storage/output/edgeR\")\n",
      "debug: inputData[inputData < 0] = 0\n",
      "debug: group_subset <- factor(as.character(groupLabels))\n",
      "debug: group_subset <<- relevel(group_subset, ref = baselineGrp)\n",
      "debug: if (min(inputData) < 0) {\n",
      "    input2_Subset <<- inputData + 2\n",
      "} else {\n",
      "    input2_Subset <<- inputData\n",
      "}\n",
      "debug: input2_Subset <<- inputData\n",
      "debug: funcEdgeR(inputData = input2_Subset, grpData = group_subset, \n",
      "    outFile = outputFileLocation)\n"
     ]
    }
   ],
   "source": [
    "## call function to run EdgeR\n",
    "funcSubsetForEdgeR(inputData = inputForGroupComp, \n",
    "           groupLabels = labelsForGroupComp, \n",
    "           baselineGrp = \"alive\", \n",
    "           compGrp = \"dead\", \n",
    "           outputFileLocation = \"/home/jupyter/tutorials/storage/output/edgeR\")"
   ]
  },
  {
   "cell_type": "markdown",
   "id": "included-result",
   "metadata": {},
   "source": [
    "#### Now the group comparison analysis is over. \n",
    "### ** Part 2 ** Read in the results of the group comp analysis. Set 4 different threshold options **"
   ]
  },
  {
   "cell_type": "code",
   "execution_count": 25,
   "id": "contained-drink",
   "metadata": {},
   "outputs": [],
   "source": [
    "## Read in EdgeR output. Set thresholds. Get gene names. Remove duplicates\n",
    "\n",
    "#17962 features. Make sure the data frame is a numeric data frame\n",
    "edgeRoutput <- read.csv(file = groupCompOutputLocation, \n",
    "                  header = T, stringsAsFactors = F, row.names = 1)\n",
    "\n",
    "### Set threshold values\n",
    "pValueCutOff <- 0.01\n",
    "logFCCutOff <- 1\n"
   ]
  },
  {
   "cell_type": "markdown",
   "id": "wrong-generator",
   "metadata": {},
   "source": [
    "#### Option 1 - find out how many features with p-value < 0.01"
   ]
  },
  {
   "cell_type": "code",
   "execution_count": 31,
   "id": "mounted-textbook",
   "metadata": {},
   "outputs": [
    {
     "name": "stdout",
     "output_type": "stream",
     "text": [
      "[1] \"Option 1: Features with p-value < 0.01:\"\n",
      "[1] 6366\n"
     ]
    }
   ],
   "source": [
    "### Option 1 - find out how many features with p-value < 0.01\n",
    "\n",
    "which1 <- which(as.numeric(edgeRoutput$PValue) <= pValueCutOff)\n",
    "print(\"Option 1: Features with p-value < 0.01:\")\n",
    "print(length(which1))\n",
    "option1 <- edgeRoutput[which1, ] #save results from Option 1\n"
   ]
  },
  {
   "cell_type": "markdown",
   "id": "present-citizen",
   "metadata": {},
   "source": [
    "#### Option 2 - find out how many features with p-value < 0.01 and logFoldChange >= 1 or <= -1"
   ]
  },
  {
   "cell_type": "code",
   "execution_count": 27,
   "id": "boxed-vessel",
   "metadata": {},
   "outputs": [
    {
     "name": "stdout",
     "output_type": "stream",
     "text": [
      "[1] \"Option 2: features with p-value < 0.01 and Log Fold Change >=1 or <= -1:\"\n",
      "[1] 1274\n"
     ]
    }
   ],
   "source": [
    "### Option 2 - find out how many features with p-value < 0.01 and logFoldChange >= 1 or <= -1\n",
    "\n",
    "which2 <- which((edgeRoutput$PValue <= pValueCutOff) & \n",
    "                    (edgeRoutput$logFC >= logFCCutOff | edgeRoutput$logFC <= -logFCCutOff))\n",
    "print(\"Option 2: features with p-value < 0.01 and Log Fold Change >=1 or <= -1:\")\n",
    "print(length(which2))\n",
    "option2 <- edgeRoutput[which2, ] #save results from Option 2"
   ]
  },
  {
   "cell_type": "markdown",
   "id": "scheduled-relevance",
   "metadata": {},
   "source": [
    "#### Option 3 - find out how many features with FDR < 0.01"
   ]
  },
  {
   "cell_type": "code",
   "execution_count": 28,
   "id": "silver-plymouth",
   "metadata": {},
   "outputs": [
    {
     "name": "stdout",
     "output_type": "stream",
     "text": [
      "[1] \"Option 3: features with FDR < 0.01:\"\n",
      "[1] 5598\n"
     ]
    }
   ],
   "source": [
    "### Option 3 - find out how many features with FDR < 0.01\n",
    "\n",
    "which3 <- which(as.numeric(edgeRoutput$FDR) <= 0.01)\n",
    "print(\"Option 3: features with FDR < 0.01:\")\n",
    "print(length(which3))\n",
    "option3 <- edgeRoutput[which3, ] #save results from Option 3"
   ]
  },
  {
   "cell_type": "markdown",
   "id": "racial-aerospace",
   "metadata": {},
   "source": [
    "#### Option 4 - find out how many features with FDR < 0.01 and LogFoldChange >= 1.5 or <= -1.5"
   ]
  },
  {
   "cell_type": "code",
   "execution_count": 29,
   "id": "dimensional-charleston",
   "metadata": {},
   "outputs": [
    {
     "name": "stdout",
     "output_type": "stream",
     "text": [
      "[1] \"Option 4: Features with FDR < 0.01, and Log Fold change >=1.5 or <= -1.5:\"\n",
      "[1] 649\n"
     ]
    }
   ],
   "source": [
    "### Option 4 - find out how many features with FDR < 0.01 and LogFoldChange >= 1.5 or <= -1.5\n",
    "\n",
    "which4 <- which((edgeRoutput$FDR <= 0.01) & \n",
    "                    (edgeRoutput$logFC >= 1.5 | edgeRoutput$logFC <= -1.5))\n",
    "print(\"Option 4: Features with FDR < 0.01, and Log Fold change >=1.5 or <= -1.5:\")\n",
    "print(length(which4))\n",
    "option4 <- edgeRoutput[which4, ] #save results from Option 4"
   ]
  },
  {
   "cell_type": "markdown",
   "id": "growing-albert",
   "metadata": {},
   "source": [
    "### ** Part 3 **\n",
    "### Call function to run Enrichment analyasis (using EnrichR package) on the 4 options"
   ]
  },
  {
   "cell_type": "code",
   "execution_count": 50,
   "id": "boxed-classic",
   "metadata": {},
   "outputs": [
    {
     "name": "stdout",
     "output_type": "stream",
     "text": [
      "Uploading data to Enrichr... Done.\n",
      "  Querying KEGG_2019_Human... Done.\n",
      "Parsing results... Done.\n",
      "Uploading data to Enrichr... Done.\n",
      "  Querying WikiPathways_2019_Human... Done.\n",
      "Parsing results... Done.\n",
      "Uploading data to Enrichr... Done.\n",
      "  Querying KEGG_2019_Mouse... Done.\n",
      "Parsing results... Done.\n",
      "Uploading data to Enrichr... Done.\n",
      "  Querying GO_Biological_Process_2018... Done.\n",
      "Parsing results... Done.\n",
      "Uploading data to Enrichr... Done.\n",
      "  Querying Reactome_2016... Done.\n",
      "Parsing results... Done.\n",
      "Uploading data to Enrichr... Done.\n",
      "  Querying BioPlanet_2019... Done.\n",
      "Parsing results... Done.\n",
      "Uploading data to Enrichr... Done.\n",
      "  Querying ClinVar_2019... Done.\n",
      "Parsing results... Done.\n",
      "Uploading data to Enrichr... Done.\n",
      "  Querying TRRUST_Transcription_Factors_2019... Done.\n",
      "Parsing results... Done.\n",
      "Uploading data to Enrichr... Done.\n",
      "  Querying Transcription_Factor_PPIs... Done.\n",
      "Parsing results... Done.\n",
      "Uploading data to Enrichr... Done.\n",
      "  Querying TRANSFAC_and_JASPAR_PWMs... Done.\n",
      "Parsing results... Done.\n",
      "Uploading data to Enrichr... Done.\n",
      "  Querying TargetScan_microRNA_2017... Done.\n",
      "Parsing results... Done.\n",
      "Uploading data to Enrichr... Done.\n",
      "  Querying miRTarBase_2017... Done.\n",
      "Parsing results... Done.\n",
      "Uploading data to Enrichr... Done.\n",
      "  Querying DisGeNET... Done.\n",
      "Parsing results... Done.\n",
      "Uploading data to Enrichr... Done.\n",
      "  Querying OMIM_Disease... Done.\n",
      "Parsing results... Done.\n",
      "Uploading data to Enrichr... Done.\n",
      "  Querying Jensen_DISEASES... Done.\n",
      "Parsing results... Done.\n",
      "Uploading data to Enrichr... Done.\n",
      "  Querying Chromosome_Location... Done.\n",
      "Parsing results... Done.\n",
      "Uploading data to Enrichr... Done.\n",
      "  Querying VirusMINT... Done.\n",
      "Parsing results... Done.\n",
      "Uploading data to Enrichr... Done.\n",
      "  Querying HMDB_Metabolites... Done.\n",
      "Parsing results... Done.\n",
      "Uploading data to Enrichr... Done.\n",
      "  Querying dbGap... Done.\n",
      "Parsing results... Done.\n",
      "Uploading data to Enrichr... Done.\n",
      "  Querying Virus-Host_PPI_P-HIPSTer_2020... Done.\n",
      "Parsing results... Done.\n",
      "Uploading data to Enrichr... Done.\n",
      "  Querying MSigDB_Hallmark_2020... Done.\n",
      "Parsing results... Done.\n",
      "Uploading data to Enrichr... Done.\n",
      "  Querying ProteomicsDB_2020... Done.\n",
      "Parsing results... Done.\n",
      "Uploading data to Enrichr... Done.\n",
      "  Querying GWAS_Catalog_2019... Done.\n",
      "Parsing results... Done.\n",
      "Uploading data to Enrichr... Done.\n",
      "  Querying InterPro_Domains_2019... Done.\n",
      "Parsing results... Done.\n",
      "Uploading data to Enrichr... Done.\n",
      "  Querying CCLE_Proteomics_2020... Done.\n",
      "Parsing results... Done.\n",
      "Uploading data to Enrichr... Done.\n",
      "  Querying PheWeb_2019... Done.\n",
      "Parsing results... Done.\n",
      "Uploading data to Enrichr... Done.\n",
      "  Querying Pfam_Domains_2019... Done.\n",
      "Parsing results... Done.\n",
      "Uploading data to Enrichr... Done.\n",
      "  Querying Genes_Associated_with_NIH_Grants... Done.\n",
      "Parsing results... Done.\n"
     ]
    }
   ],
   "source": [
    "####Calling function to subset gene results and run EnrichR for each option\n",
    "source(\"/home/jupyter/tutorials/storage/code/funcSubsetForEnrichR.R\")\n",
    "\n",
    "# Option 1\n",
    "library(openxlsx)\n",
    "funcSubsetForEnrichR(shortListResults = option1, \n",
    "                     filename1 = \"/home/jupyter/tutorials/storage/output/option1_shortlist_results.csv\", \n",
    "                     optionName1 = \"option1\")"
   ]
  },
  {
   "cell_type": "code",
   "execution_count": 52,
   "id": "rental-check",
   "metadata": {},
   "outputs": [
    {
     "name": "stdout",
     "output_type": "stream",
     "text": [
      "Uploading data to Enrichr... Done.\n",
      "  Querying KEGG_2019_Human... Done.\n",
      "Parsing results... Done.\n",
      "Uploading data to Enrichr... Done.\n",
      "  Querying WikiPathways_2019_Human... Done.\n",
      "Parsing results... Done.\n",
      "Uploading data to Enrichr... Done.\n",
      "  Querying KEGG_2019_Mouse... Done.\n",
      "Parsing results... Done.\n",
      "Uploading data to Enrichr... Done.\n",
      "  Querying GO_Biological_Process_2018... Done.\n",
      "Parsing results... Done.\n",
      "Uploading data to Enrichr... Done.\n",
      "  Querying Reactome_2016... Done.\n",
      "Parsing results... Done.\n",
      "Uploading data to Enrichr... Done.\n",
      "  Querying BioPlanet_2019... Done.\n",
      "Parsing results... Done.\n",
      "Uploading data to Enrichr... Done.\n",
      "  Querying ClinVar_2019... Done.\n",
      "Parsing results... Done.\n",
      "Uploading data to Enrichr... Done.\n",
      "  Querying TRRUST_Transcription_Factors_2019... Done.\n",
      "Parsing results... Done.\n",
      "Uploading data to Enrichr... Done.\n",
      "  Querying Transcription_Factor_PPIs... Done.\n",
      "Parsing results... Done.\n",
      "Uploading data to Enrichr... Done.\n",
      "  Querying TRANSFAC_and_JASPAR_PWMs... Done.\n",
      "Parsing results... Done.\n",
      "Uploading data to Enrichr... Done.\n",
      "  Querying TargetScan_microRNA_2017... Done.\n",
      "Parsing results... Done.\n",
      "Uploading data to Enrichr... Done.\n",
      "  Querying miRTarBase_2017... Done.\n",
      "Parsing results... Done.\n",
      "Uploading data to Enrichr... Done.\n",
      "  Querying DisGeNET... Done.\n",
      "Parsing results... Done.\n",
      "Uploading data to Enrichr... Done.\n",
      "  Querying OMIM_Disease... Done.\n",
      "Parsing results... Done.\n",
      "Uploading data to Enrichr... Done.\n",
      "  Querying Jensen_DISEASES... Done.\n",
      "Parsing results... Done.\n",
      "Uploading data to Enrichr... Done.\n",
      "  Querying Chromosome_Location... Done.\n",
      "Parsing results... Done.\n",
      "Uploading data to Enrichr... Done.\n",
      "  Querying VirusMINT... Done.\n",
      "Parsing results... Done.\n",
      "Uploading data to Enrichr... Done.\n",
      "  Querying HMDB_Metabolites... Done.\n",
      "Parsing results... Done.\n",
      "Uploading data to Enrichr... Done.\n",
      "  Querying dbGap... Done.\n",
      "Parsing results... Done.\n",
      "Uploading data to Enrichr... Done.\n",
      "  Querying Virus-Host_PPI_P-HIPSTer_2020... Done.\n",
      "Parsing results... Done.\n",
      "Uploading data to Enrichr... Done.\n",
      "  Querying MSigDB_Hallmark_2020... Done.\n",
      "Parsing results... Done.\n",
      "Uploading data to Enrichr... Done.\n",
      "  Querying ProteomicsDB_2020... Done.\n",
      "Parsing results... Done.\n",
      "Uploading data to Enrichr... Done.\n",
      "  Querying GWAS_Catalog_2019... Done.\n",
      "Parsing results... Done.\n",
      "Uploading data to Enrichr... Done.\n",
      "  Querying InterPro_Domains_2019... Done.\n",
      "Parsing results... Done.\n",
      "Uploading data to Enrichr... Done.\n",
      "  Querying CCLE_Proteomics_2020... Done.\n",
      "Parsing results... Done.\n",
      "Uploading data to Enrichr... Done.\n",
      "  Querying PheWeb_2019... Done.\n",
      "Parsing results... Done.\n",
      "Uploading data to Enrichr... Done.\n",
      "  Querying Pfam_Domains_2019... Done.\n",
      "Parsing results... Done.\n",
      "Uploading data to Enrichr... Done.\n",
      "  Querying Genes_Associated_with_NIH_Grants... Done.\n",
      "Parsing results... Done.\n"
     ]
    }
   ],
   "source": [
    "####Calling function to subset gene results and run EnrichR for \n",
    "# Option 2\n",
    "library(openxlsx)\n",
    "funcSubsetForEnrichR(shortListResults = option2, \n",
    "                     filename1 = \"/home/jupyter/tutorials/storage/output/option2_shortlist_results.csv\", \n",
    "                     optionName1 = \"option2\")"
   ]
  },
  {
   "cell_type": "code",
   "execution_count": 47,
   "id": "alive-cassette",
   "metadata": {},
   "outputs": [
    {
     "name": "stdout",
     "output_type": "stream",
     "text": [
      "Uploading data to Enrichr... Done.\n",
      "  Querying KEGG_2019_Human... Done.\n",
      "Parsing results... Done.\n",
      "Uploading data to Enrichr... Done.\n",
      "  Querying WikiPathways_2019_Human... Done.\n",
      "Parsing results... Done.\n",
      "Uploading data to Enrichr... Done.\n",
      "  Querying KEGG_2019_Mouse... Done.\n",
      "Parsing results... Done.\n",
      "Uploading data to Enrichr... Done.\n",
      "  Querying GO_Biological_Process_2018... Done.\n",
      "Parsing results... Done.\n",
      "Uploading data to Enrichr... Done.\n",
      "  Querying Reactome_2016... Done.\n",
      "Parsing results... Done.\n",
      "Uploading data to Enrichr... Done.\n",
      "  Querying BioPlanet_2019... Done.\n",
      "Parsing results... Done.\n",
      "Uploading data to Enrichr... Done.\n",
      "  Querying ClinVar_2019... Done.\n",
      "Parsing results... Done.\n",
      "Uploading data to Enrichr... Done.\n",
      "  Querying TRRUST_Transcription_Factors_2019... Done.\n",
      "Parsing results... Done.\n",
      "Uploading data to Enrichr... Done.\n",
      "  Querying Transcription_Factor_PPIs... Done.\n",
      "Parsing results... Done.\n",
      "Uploading data to Enrichr... Done.\n",
      "  Querying TRANSFAC_and_JASPAR_PWMs... Done.\n",
      "Parsing results... Done.\n",
      "Uploading data to Enrichr... Done.\n",
      "  Querying TargetScan_microRNA_2017... Done.\n",
      "Parsing results... Done.\n",
      "Uploading data to Enrichr... Done.\n",
      "  Querying miRTarBase_2017... Done.\n",
      "Parsing results... Done.\n",
      "Uploading data to Enrichr... Done.\n",
      "  Querying DisGeNET... Done.\n",
      "Parsing results... Done.\n",
      "Uploading data to Enrichr... Done.\n",
      "  Querying OMIM_Disease... Done.\n",
      "Parsing results... Done.\n",
      "Uploading data to Enrichr... Done.\n",
      "  Querying Jensen_DISEASES... Done.\n",
      "Parsing results... Done.\n",
      "Uploading data to Enrichr... Done.\n",
      "  Querying Chromosome_Location... Done.\n",
      "Parsing results... Done.\n",
      "Uploading data to Enrichr... Done.\n",
      "  Querying VirusMINT... Done.\n",
      "Parsing results... Done.\n",
      "Uploading data to Enrichr... Done.\n",
      "  Querying HMDB_Metabolites... Done.\n",
      "Parsing results... Done.\n",
      "Uploading data to Enrichr... Done.\n",
      "  Querying dbGap... Done.\n",
      "Parsing results... Done.\n",
      "Uploading data to Enrichr... Done.\n",
      "  Querying Virus-Host_PPI_P-HIPSTer_2020... Done.\n",
      "Parsing results... Done.\n",
      "Uploading data to Enrichr... Done.\n",
      "  Querying MSigDB_Hallmark_2020... Done.\n",
      "Parsing results... Done.\n",
      "Uploading data to Enrichr... Done.\n",
      "  Querying ProteomicsDB_2020... Done.\n",
      "Parsing results... Done.\n",
      "Uploading data to Enrichr... Done.\n",
      "  Querying GWAS_Catalog_2019... Done.\n",
      "Parsing results... Done.\n",
      "Uploading data to Enrichr... Done.\n",
      "  Querying InterPro_Domains_2019... Done.\n",
      "Parsing results... Done.\n",
      "Uploading data to Enrichr... Done.\n",
      "  Querying CCLE_Proteomics_2020... Done.\n",
      "Parsing results... Done.\n",
      "Uploading data to Enrichr... Done.\n",
      "  Querying PheWeb_2019... Done.\n",
      "Parsing results... Done.\n",
      "Uploading data to Enrichr... Done.\n",
      "  Querying Pfam_Domains_2019... Done.\n",
      "Parsing results... Done.\n",
      "Uploading data to Enrichr... Done.\n",
      "  Querying Genes_Associated_with_NIH_Grants... Done.\n",
      "Parsing results... Done.\n"
     ]
    }
   ],
   "source": [
    "####Calling function to subset gene results and run EnrichR for \n",
    "# Option 3\n",
    "library(openxlsx)\n",
    "funcSubsetForEnrichR(shortListResults = option3, \n",
    "                     filename1 = \"/home/jupyter/tutorials/storage/output/option3_shortlist_results.csv\", \n",
    "                     optionName1 = \"option3\")"
   ]
  },
  {
   "cell_type": "code",
   "execution_count": null,
   "id": "square-integration",
   "metadata": {},
   "outputs": [],
   "source": [
    "####Calling function to subset gene results and run EnrichR for \n",
    "# Option 4\n",
    "library(openxlsx)\n",
    "funcSubsetForEnrichR(shortListResults = option4, \n",
    "                     filename1 = \"/home/jupyter/tutorials/storage/output/option4_shortlist_results.csv\", \n",
    "                     optionName1 = \"option4\")"
   ]
  },
  {
   "cell_type": "markdown",
   "id": "monetary-pearl",
   "metadata": {},
   "source": [
    "#### All Analaysis steps done. \n",
    "### Part 4 - Copy output files from here to google storage"
   ]
  },
  {
   "cell_type": "markdown",
   "id": "complimentary-ghost",
   "metadata": {},
   "source": [
    "One way is to use R package: Reference document: https://cran.r-project.org/web/packages/googleCloudStorageR/vignettes/googleCloudStorageR.html \n",
    "\n",
    "**Easier to use terminal to copy entire \"output\" folder** "
   ]
  },
  {
   "cell_type": "code",
   "execution_count": 54,
   "id": "available-professor",
   "metadata": {},
   "outputs": [
    {
     "name": "stderr",
     "output_type": "stream",
     "text": [
      "2021-04-13 18:25:34 -- File size detected as 41 Kb\n",
      "\n"
     ]
    },
    {
     "data": {
      "text/plain": [
       "==Google Cloud Storage Object==\n",
       "Name:                /home/jupyter/tutorials/storage/output/option1_shortListedUniqueGenes.tsv \n",
       "Type:                text/tab-separated-values \n",
       "Size:                41 Kb \n",
       "Media URL:           https://www.googleapis.com/download/storage/v1/b/vre-use-case-rna-seq/o/%2Fhome%2Fjupyter%2Ftutorials%2Fstorage%2Foutput%2Foption1_shortListedUniqueGenes.tsv?generation=1618338334327402&alt=media \n",
       "Download URL:        https://storage.cloud.google.com/vre-use-case-rna-seq/%2Fhome%2Fjupyter%2Ftutorials%2Fstorage%2Foutput%2Foption1_shortListedUniqueGenes.tsv \n",
       "Public Download URL: https://storage.googleapis.com/vre-use-case-rna-seq/%2Fhome%2Fjupyter%2Ftutorials%2Fstorage%2Foutput%2Foption1_shortListedUniqueGenes.tsv \n",
       "Bucket:              vre-use-case-rna-seq \n",
       "ID:                  vre-use-case-rna-seq//home/jupyter/tutorials/storage/output/option1_shortListedUniqueGenes.tsv/1618338334327402 \n",
       "MD5 Hash:            WBs/yPBuR7p+EL7Q+rh3ig== \n",
       "Class:               STANDARD \n",
       "Created:             2021-04-13 18:25:34 \n",
       "Updated:             2021-04-13 18:25:34 \n",
       "Generation:          1618338334327402 \n",
       "Meta Generation:     1 \n",
       "eTag:                COqErYzs++8CEAE= \n",
       "crc32c:              dlWcbA== "
      ]
     },
     "metadata": {},
     "output_type": "display_data"
    }
   ],
   "source": [
    "gcs_upload(file = \"/home/jupyter/tutorials/storage/output/option1_shortListedUniqueGenes.tsv\", \n",
    "           bucket = \"vre-use-case-rna-seq\" , predefinedAcl = \"bucketLevel\")"
   ]
  },
  {
   "cell_type": "markdown",
   "id": "metallic-evans",
   "metadata": {},
   "source": [
    "#### Run in terminal."
   ]
  },
  {
   "cell_type": "code",
   "execution_count": null,
   "id": "current-least",
   "metadata": {},
   "outputs": [],
   "source": [
    "# run in terminal - copy one file to google bucket\n",
    "gsutil cp /home/jupyter/tutorials/storage/output/option2_shortListedUniqueGenes.tsv gs://vre-use-case-rna-seq"
   ]
  },
  {
   "cell_type": "code",
   "execution_count": null,
   "id": "conceptual-assembly",
   "metadata": {},
   "outputs": [],
   "source": [
    "# run in terminal. Copy folder to google bucket\n",
    "gsutil -m cp -R /home/jupyter/tutorials/storage/output/ gs://vre-use-case-rna-seq"
   ]
  }
 ],
 "metadata": {
  "environment": {
   "name": "r-cpu.3-6.m65",
   "type": "gcloud",
   "uri": "gcr.io/deeplearning-platform-release/r-cpu.3-6:m65"
  },
  "kernelspec": {
   "display_name": "R",
   "language": "R",
   "name": "ir"
  },
  "language_info": {
   "codemirror_mode": "r",
   "file_extension": ".r",
   "mimetype": "text/x-r-source",
   "name": "R",
   "pygments_lexer": "r",
   "version": "3.6.3"
  }
 },
 "nbformat": 4,
 "nbformat_minor": 5
}
