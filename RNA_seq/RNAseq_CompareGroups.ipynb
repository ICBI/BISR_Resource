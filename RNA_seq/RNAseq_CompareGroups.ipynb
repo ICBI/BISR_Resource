{
  "cells": [
    {
      "cell_type": "markdown",
      "metadata": {
        "id": "view-in-github",
        "colab_type": "text"
      },
      "source": [
        "<a href=\"https://colab.research.google.com/github/ICBI/BISR_Tutorials/blob/main/RNA_seq/RNAseq_CompareGroups.ipynb\" target=\"_parent\"><img src=\"https://colab.research.google.com/assets/colab-badge.svg\" alt=\"Open In Colab\"/></a>"
      ]
    },
    {
      "cell_type": "markdown",
      "id": "flexible-substitute",
      "metadata": {
        "id": "flexible-substitute"
      },
      "source": [
        "## Group comparision analysis example for VRE.\n",
        "Example using TCGA ESCA (Easophageal cancer) obtained from Broad Inst TCGA data repo Firebrowser (<http://firebrowse.org>)\n",
        "\n",
        "### Assumptions for analysis\n",
        "\n",
        "* User knows programming to be able to clean data and put it in the right format\n",
        "* Two input data files: Gene expression data from RNA-seq (raw counts), and clinical data\n",
        "* RNA-seq file format : Rows are features (gene names), Columns are samples. Only tumor samples were chosen for this analysis\n",
        "* RNA-seq file format : Features are assumed to be in this format `GeneName|GeneID` . Example shown here is from public TCGA data obtained from Firebrowser.\n",
        "* Clinical data: This is a cleaned file that contains two columns - patient ids and vital status (Dead/Alive)\n",
        "* User knows to identify baseline and comparison groups for analysis\n",
        "\n",
        "## Goal of this analysis\n",
        "* Use the gene expression data from RNA-seq (raw counts) obtained from tumor tissue of Esophageal cancer patients to compare Dead and Alive patients.\n",
        "* Baseline Group (less screwed up group) = Alive\n",
        "* Comparison Group (screwed up group) = Dead\n",
        "\n",
        "## Analysis Steps\n",
        "\n",
        "* Read in gene exp data\n",
        "* Read in clinical data file\n",
        "* Use the clinical data to separate gene expression data for baseline and comparison groups\n",
        "* Set labels for the groups\n",
        "* Call function to perform the group comparison analysis. This function will use the Bioconducor package `EdgeR` <https://bioconductor.org/packages/release/bioc/html/edgeR.html> . The package requires the RNA-seq data to be in the form of raw counts.\n",
        "* Read in the results of group comp analysis\n",
        "* Select threshold for short listing results. Ideal threshold would result in number of genes  less than 700 or 1000.\n",
        "* Call function to perform Enrichment Analysis. This is done using the EnrichR R package. <https://cran.r-project.org/web/packages/enrichR/index.html>"
      ]
    },
    {
      "cell_type": "markdown",
      "id": "meaningful-amendment",
      "metadata": {
        "id": "meaningful-amendment"
      },
      "source": [
        "### Step 0 - Before we start\n",
        "* Use terminal (shell) to copy the input files from the google drive `MyDrive/rna_seq`\n",
        "* Upload code files to the google drive base folder `MyDrive/rna_seq`\n"
      ]
    },
    {
      "cell_type": "code",
      "source": [
        "#mount google drive\n",
        "from google.colab import drive\n",
        "drive.mount('/content/drive')\n",
        "\n"
      ],
      "metadata": {
        "id": "B7FsJNUQmM4N",
        "colab": {
          "base_uri": "https://localhost:8080/"
        },
        "outputId": "8335c9a0-5a46-4d31-b54a-d2447b69b3c9"
      },
      "id": "B7FsJNUQmM4N",
      "execution_count": null,
      "outputs": [
        {
          "output_type": "stream",
          "name": "stdout",
          "text": [
            "Mounted at /content/drive\n"
          ]
        }
      ]
    },
    {
      "cell_type": "code",
      "source": [
        "#installing R in this\n",
        "#!pip uninstall rpy2 -y #unisntall any old version\n",
        "!pip install rpy2==3.5.1\n",
        "%load_ext rpy2.ipython\n"
      ],
      "metadata": {
        "id": "zH7d2V7ImsP5"
      },
      "id": "zH7d2V7ImsP5",
      "execution_count": null,
      "outputs": []
    },
    {
      "cell_type": "code",
      "source": [
        "#testing R\n",
        "#called magic R cell to indicate R code in a python notebook\n",
        "\n",
        "test1 <- 5\n",
        "print(test1)"
      ],
      "metadata": {
        "id": "rs62l9w0POS4",
        "colab": {
          "base_uri": "https://localhost:8080/"
        },
        "outputId": "65964820-3329-4322-855e-e8b02fa487d5"
      },
      "id": "rs62l9w0POS4",
      "execution_count": 5,
      "outputs": [
        {
          "output_type": "stream",
          "name": "stdout",
          "text": [
            "[1] 5\n"
          ]
        }
      ]
    },
    {
      "cell_type": "markdown",
      "id": "continuous-scope",
      "metadata": {
        "id": "continuous-scope"
      },
      "source": [
        "### Install packages"
      ]
    },
    {
      "cell_type": "code",
      "execution_count": null,
      "id": "viral-boating",
      "metadata": {
        "colab": {
          "base_uri": "https://localhost:8080/"
        },
        "id": "viral-boating",
        "outputId": "cdf4f57a-0b42-4f6f-ceb0-83d4142b7c77"
      },
      "outputs": [
        {
          "output_type": "stream",
          "name": "stderr",
          "text": [
            "UsageError: Cell magic `%%R` not found.\n"
          ]
        }
      ],
      "source": [
        "\n",
        "if(!requireNamespace(\"BiocManager\", quietly = TRUE))\n",
        "    install.packages(\"BiocManager\")\n",
        "install.packages(\"openxlsx\")\n",
        "BiocManager::install(\"edgeR\")\n",
        "library(edgeR)\n",
        "library(openxlsx)\n",
        "library(stringr)"
      ]
    },
    {
      "cell_type": "markdown",
      "id": "opening-bullet",
      "metadata": {
        "id": "opening-bullet"
      },
      "source": [
        "### Location of input files"
      ]
    },
    {
      "cell_type": "code",
      "execution_count": 7,
      "id": "genetic-newspaper",
      "metadata": {
        "id": "genetic-newspaper"
      },
      "outputs": [],
      "source": [
        "enrichRFileLocation <- \"https://github.com/ICBI/BISR_Tutorials/blob/main/RNA_seq/input/20201203-EnrichR-Databases.txt\"\n",
        "\n",
        "geneExpLocation <- \"https://github.com/ICBI/BISR_Tutorials/blob/main/RNA_seq/input/20210318_TCGA_ESCA_RNAseq_GeneExp_RawCounts_Tumor.tsv\"\n",
        "\n",
        "clinFileLocation <- \"https://github.com/ICBI/BISR_Tutorials/blob/main/RNA_seq/input/TCGA_ESCA_ClinDataVitalStatus.tsv\"\n",
        "\n",
        "groupCompOutputLocation <- \"https://github.com/ICBI/BISR_Tutorials/blob/main/RNA_seq/input/output_edgeR_ExactTest.csv\""
      ]
    },
    {
      "cell_type": "markdown",
      "source": [
        "#### Load function R code files"
      ],
      "metadata": {
        "id": "gSlhFnXXpd-z"
      },
      "id": "gSlhFnXXpd-z"
    },
    {
      "cell_type": "code",
      "source": [
        "## call function to run EdgeR\n",
        "source(\"https://github.com/ICBI/BISR_Tutorials/blob/main/RNA_seq/funcSubsetForEdgeR.R\")\n",
        "\n",
        "####Calling function to subset gene results and run EnrichR for each option\n",
        "source(\"https://github.com/ICBI/BISR_Tutorials/blob/main/RNA_seq/funcSubsetForEnrichR.R\")"
      ],
      "metadata": {
        "id": "rERQKifRphkx",
        "outputId": "c0fee601-1604-44d2-87a4-71046c6956c1",
        "colab": {
          "base_uri": "https://localhost:8080/",
          "height": 205
        }
      },
      "id": "rERQKifRphkx",
      "execution_count": 6,
      "outputs": [
        {
          "output_type": "error",
          "ename": "ERROR",
          "evalue": "ignored",
          "traceback": [
            "Error in source(\"https://github.com/ICBI/BISR_Tutorials/blob/main/RNA_seq/funcSubsetForEdgeR.R\"): https://github.com/ICBI/BISR_Tutorials/blob/main/RNA_seq/funcSubsetForEdgeR.R:8:1: unexpected '<'\n7: \n8: <\n   ^\nTraceback:\n",
            "1. source(\"https://github.com/ICBI/BISR_Tutorials/blob/main/RNA_seq/funcSubsetForEdgeR.R\")"
          ]
        }
      ]
    },
    {
      "cell_type": "markdown",
      "id": "sharp-routine",
      "metadata": {
        "id": "sharp-routine"
      },
      "source": [
        "### ** Part 1 - Group comparison analysis **"
      ]
    },
    {
      "cell_type": "markdown",
      "id": "motivated-counter",
      "metadata": {
        "id": "motivated-counter"
      },
      "source": [
        "#### Read in gene expression file"
      ]
    },
    {
      "cell_type": "code",
      "execution_count": 8,
      "id": "wired-probability",
      "metadata": {
        "id": "wired-probability",
        "outputId": "8ca9a9d6-062d-4611-f706-61fc98eab626",
        "colab": {
          "base_uri": "https://localhost:8080/",
          "height": 258
        }
      },
      "outputs": [
        {
          "output_type": "stream",
          "name": "stderr",
          "text": [
            "Warning message in scan(file = file, what = what, sep = sep, quote = quote, dec = dec, :\n",
            "“EOF within quoted string”\n"
          ]
        },
        {
          "output_type": "error",
          "ename": "ERROR",
          "evalue": "ignored",
          "traceback": [
            "Error in read.table(file = file, header = header, sep = sep, quote = quote, : duplicate 'row.names' are not allowed\nTraceback:\n",
            "1. read.csv(file = geneExpLocation, sep = \"\\t\", stringsAsFactors = F, \n .     row.names = 1)",
            "2. read.table(file = file, header = header, sep = sep, quote = quote, \n .     dec = dec, fill = fill, comment.char = comment.char, ...)",
            "3. stop(\"duplicate 'row.names' are not allowed\")"
          ]
        }
      ],
      "source": [
        "#20531 rows features, 173 tumor samples columns\n",
        "geneExp <- read.csv(file = geneExpLocation,\n",
        "                    sep=\"\\t\", stringsAsFactors = F, row.names = 1)\n",
        "\n",
        "# First 20 rows - no gene names\n",
        "head(geneExp[1:20, 1:4])\n",
        "\n",
        "#View Rows 5000-5010 - can see gene names\n",
        "head(geneExp[5000:5010,1:3])"
      ]
    },
    {
      "cell_type": "markdown",
      "id": "excited-production",
      "metadata": {
        "id": "excited-production"
      },
      "source": [
        "#### Read in cleaned clinical data"
      ]
    },
    {
      "cell_type": "code",
      "execution_count": 9,
      "id": "included-internet",
      "metadata": {
        "id": "included-internet",
        "outputId": "aa49f424-c81f-418d-8496-2431f80550d0",
        "colab": {
          "base_uri": "https://localhost:8080/",
          "height": 286
        }
      },
      "outputs": [
        {
          "output_type": "display_data",
          "data": {
            "text/html": [
              "<table class=\"dataframe\">\n",
              "<caption>A data.frame: 6 × 1</caption>\n",
              "<thead>\n",
              "\t<tr><th></th><th scope=col>X..DOCTYPE.html.</th></tr>\n",
              "\t<tr><th></th><th scope=col>&lt;chr&gt;</th></tr>\n",
              "</thead>\n",
              "<tbody>\n",
              "\t<tr><th scope=row>1</th><td><span style=white-space:pre-wrap>&lt;html lang=en data-color-mode=auto data-light-theme=light data-dark-theme=dark  data-a11y-animated-images=system&gt;</span></td></tr>\n",
              "\t<tr><th scope=row>2</th><td><span style=white-space:pre-wrap>  &lt;head&gt;                                                                                                         </span></td></tr>\n",
              "\t<tr><th scope=row>3</th><td><span style=white-space:pre-wrap>    &lt;meta charset=utf-8&gt;                                                                                         </span></td></tr>\n",
              "\t<tr><th scope=row>4</th><td><span style=white-space:pre-wrap>  &lt;link rel=dns-prefetch href=https://github.githubassets.com&gt;                                                   </span></td></tr>\n",
              "\t<tr><th scope=row>5</th><td><span style=white-space:pre-wrap>  &lt;link rel=dns-prefetch href=https://avatars.githubusercontent.com&gt;                                             </span></td></tr>\n",
              "\t<tr><th scope=row>6</th><td><span style=white-space:pre-wrap>  &lt;link rel=dns-prefetch href=https://github-cloud.s3.amazonaws.com&gt;                                             </span></td></tr>\n",
              "</tbody>\n",
              "</table>\n"
            ],
            "text/markdown": "\nA data.frame: 6 × 1\n\n| <!--/--> | X..DOCTYPE.html. &lt;chr&gt; |\n|---|---|\n| 1 | &lt;html lang=en data-color-mode=auto data-light-theme=light data-dark-theme=dark  data-a11y-animated-images=system&gt; |\n| 2 |   &lt;head&gt;                                                                                                          |\n| 3 |     &lt;meta charset=utf-8&gt;                                                                                          |\n| 4 |   &lt;link rel=dns-prefetch href=https://github.githubassets.com&gt;                                                    |\n| 5 |   &lt;link rel=dns-prefetch href=https://avatars.githubusercontent.com&gt;                                              |\n| 6 |   &lt;link rel=dns-prefetch href=https://github-cloud.s3.amazonaws.com&gt;                                              |\n\n",
            "text/latex": "A data.frame: 6 × 1\n\\begin{tabular}{r|l}\n  & X..DOCTYPE.html.\\\\\n  & <chr>\\\\\n\\hline\n\t1 & <html lang=en data-color-mode=auto data-light-theme=light data-dark-theme=dark  data-a11y-animated-images=system>\\\\\n\t2 &   <head>                                                                                                         \\\\\n\t3 &     <meta charset=utf-8>                                                                                         \\\\\n\t4 &   <link rel=dns-prefetch href=https://github.githubassets.com>                                                   \\\\\n\t5 &   <link rel=dns-prefetch href=https://avatars.githubusercontent.com>                                             \\\\\n\t6 &   <link rel=dns-prefetch href=https://github-cloud.s3.amazonaws.com>                                             \\\\\n\\end{tabular}\n",
            "text/plain": [
              "  X..DOCTYPE.html.                                                                                                 \n",
              "1 <html lang=en data-color-mode=auto data-light-theme=light data-dark-theme=dark  data-a11y-animated-images=system>\n",
              "2   <head>                                                                                                         \n",
              "3     <meta charset=utf-8>                                                                                         \n",
              "4   <link rel=dns-prefetch href=https://github.githubassets.com>                                                   \n",
              "5   <link rel=dns-prefetch href=https://avatars.githubusercontent.com>                                             \n",
              "6   <link rel=dns-prefetch href=https://github-cloud.s3.amazonaws.com>                                             "
            ]
          },
          "metadata": {}
        }
      ],
      "source": [
        "\n",
        "\n",
        "# 185 sample  IDs\n",
        "clinData <- read.csv(file = clinFileLocation,\n",
        "                     sep = \"\\t\", stringsAsFactors = F)\n",
        "\n",
        "head(clinData)\n"
      ]
    },
    {
      "cell_type": "markdown",
      "id": "occasional-miami",
      "metadata": {
        "id": "occasional-miami"
      },
      "source": [
        "#### Subset clinical data  into two data frames - dead and alive"
      ]
    },
    {
      "cell_type": "code",
      "execution_count": null,
      "id": "surprising-voltage",
      "metadata": {
        "id": "surprising-voltage"
      },
      "outputs": [],
      "source": [
        "%%R\n",
        "\n",
        "## Subset clinical data patients into two data frames\n",
        "\n",
        "clinDataAlive <- subset(clinData, V2 == \"alive\") #128 patients\n",
        "clinDataDead <- subset(clinData, V2 == \"dead\") #57 patients dead\n"
      ]
    },
    {
      "cell_type": "code",
      "execution_count": null,
      "id": "novel-headquarters",
      "metadata": {
        "id": "novel-headquarters",
        "outputId": "fafcb9f0-3049-45ae-974e-c17d1c36af90",
        "colab": {
          "base_uri": "https://localhost:8080/"
        }
      },
      "outputs": [
        {
          "output_type": "stream",
          "name": "stdout",
          "text": [
            "[1] 128   2\n"
          ]
        }
      ],
      "source": [
        "#checks\n",
        "%%R\n",
        "dim(clinDataAlive)"
      ]
    },
    {
      "cell_type": "markdown",
      "id": "center-davis",
      "metadata": {
        "id": "center-davis"
      },
      "source": [
        "#### Subset gene exp data  into two data frames - dead and alive"
      ]
    },
    {
      "cell_type": "code",
      "execution_count": null,
      "id": "casual-sensitivity",
      "metadata": {
        "id": "casual-sensitivity"
      },
      "outputs": [],
      "source": [
        "%%R\n",
        "## Subset gene exp data into two data frames - alive and dead\n",
        "#Make sure data is numerical format, not strings\n",
        "\n",
        "#Subset alive patients\n",
        "matchBaseline <- which(colnames(geneExp) %in% clinDataAlive$V1)\n",
        "geneExpBaseline <- geneExp[,matchBaseline] #124 samples alive\n",
        "\n",
        "#Subset dead patients\n",
        "matchComparison <- which(colnames(geneExp) %in% clinDataDead$V1)\n",
        "geneExpComparison<- geneExp[,matchComparison] # 49 samples dead\n",
        "\n",
        "#Get number of columns\n",
        "nColBaseline <- ncol(geneExpBaseline)\n",
        "nColComparision <- ncol(geneExpComparison)"
      ]
    },
    {
      "cell_type": "code",
      "execution_count": null,
      "id": "natural-ireland",
      "metadata": {
        "id": "natural-ireland",
        "outputId": "cd0a6d56-afe1-4f94-ebe8-54244299a784",
        "colab": {
          "base_uri": "https://localhost:8080/"
        }
      },
      "outputs": [
        {
          "output_type": "stream",
          "name": "stdout",
          "text": [
            "[1] 20531    49\n"
          ]
        }
      ],
      "source": [
        "%%R\n",
        "\n",
        "#checks\n",
        "dim(geneExpBaseline)\n",
        "dim(geneExpComparison)"
      ]
    },
    {
      "cell_type": "markdown",
      "id": "facial-revolution",
      "metadata": {
        "id": "facial-revolution"
      },
      "source": [
        "#### Prep data in the right format for the function for Group Comp"
      ]
    },
    {
      "cell_type": "code",
      "execution_count": null,
      "id": "suffering-slovenia",
      "metadata": {
        "id": "suffering-slovenia"
      },
      "outputs": [],
      "source": [
        "%%R\n",
        "\n",
        "## Prep data to call function for Group Comp\n",
        "\n",
        "# RNA-seq data for function\n",
        "inputForGroupComp <- cbind(geneExpBaseline, geneExpComparison)\n",
        "\n",
        "labelsForGroupComp <- c(rep(\"alive\", nColBaseline),\n",
        "                          rep(\"dead\", nColComparision))"
      ]
    },
    {
      "cell_type": "code",
      "execution_count": null,
      "id": "following-click",
      "metadata": {
        "id": "following-click",
        "outputId": "e1b07fe2-7569-4e23-d5b5-3cf33ad98a1d",
        "colab": {
          "base_uri": "https://localhost:8080/"
        }
      },
      "outputs": [
        {
          "output_type": "stream",
          "name": "stdout",
          "text": [
            "[1] \"alive\" \"alive\" \"alive\" \"alive\" \"alive\" \"alive\"\n"
          ]
        }
      ],
      "source": [
        "#checks\n",
        "%%R\n",
        "dim(inputForGroupComp)\n",
        "head(labelsForGroupComp)"
      ]
    },
    {
      "cell_type": "markdown",
      "id": "assigned-prague",
      "metadata": {
        "id": "assigned-prague"
      },
      "source": [
        "#### Data is now prepped. Call function to run Group comp analysis using EdgeR package"
      ]
    },
    {
      "cell_type": "code",
      "execution_count": null,
      "id": "biblical-fence",
      "metadata": {
        "id": "biblical-fence",
        "outputId": "7b3b59ca-e2c4-4922-b8dd-cf1748f2fda2"
      },
      "outputs": [
        {
          "name": "stderr",
          "output_type": "stream",
          "text": [
            "Loading required package: limma\n",
            "\n"
          ]
        }
      ],
      "source": [
        "\n"
      ]
    },
    {
      "cell_type": "code",
      "execution_count": null,
      "id": "collectible-assumption",
      "metadata": {
        "id": "collectible-assumption",
        "outputId": "0e50f6f0-d0dc-4cd3-9128-17ee9fa718ab"
      },
      "outputs": [
        {
          "name": "stdout",
          "output_type": "stream",
          "text": [
            "Called from: funcSubsetForEdgeR(inputData = inputForGroupComp, groupLabels = labelsForGroupComp, \n",
            "    baselineGrp = \"alive\", compGrp = \"dead\", outputFileLocation = \"/home/jupyter/tutorials/storage/output/edgeR\")\n",
            "debug: inputData[inputData < 0] = 0\n",
            "debug: group_subset <- factor(as.character(groupLabels))\n",
            "debug: group_subset <<- relevel(group_subset, ref = baselineGrp)\n",
            "debug: if (min(inputData) < 0) {\n",
            "    input2_Subset <<- inputData + 2\n",
            "} else {\n",
            "    input2_Subset <<- inputData\n",
            "}\n",
            "debug: input2_Subset <<- inputData\n",
            "debug: funcEdgeR(inputData = input2_Subset, grpData = group_subset, \n",
            "    outFile = outputFileLocation)\n"
          ]
        }
      ],
      "source": [
        "## call function to run EdgeR\n",
        "funcSubsetForEdgeR(inputData = inputForGroupComp,\n",
        "           groupLabels = labelsForGroupComp,\n",
        "           baselineGrp = \"alive\",\n",
        "           compGrp = \"dead\",\n",
        "           outputFileLocation = \"/home/jupyter/tutorials/storage/output/edgeR\")"
      ]
    },
    {
      "cell_type": "markdown",
      "id": "included-result",
      "metadata": {
        "id": "included-result"
      },
      "source": [
        "#### Now the group comparison analysis is over.\n",
        "### ** Part 2 ** Read in the results of the group comp analysis. Set 4 different threshold options **"
      ]
    },
    {
      "cell_type": "code",
      "execution_count": null,
      "id": "contained-drink",
      "metadata": {
        "id": "contained-drink"
      },
      "outputs": [],
      "source": [
        "## Read in EdgeR output. Set thresholds. Get gene names. Remove duplicates\n",
        "\n",
        "#17962 features. Make sure the data frame is a numeric data frame\n",
        "edgeRoutput <- read.csv(file = groupCompOutputLocation,\n",
        "                  header = T, stringsAsFactors = F, row.names = 1)\n",
        "\n",
        "### Set threshold values\n",
        "pValueCutOff <- 0.01\n",
        "logFCCutOff <- 1\n"
      ]
    },
    {
      "cell_type": "markdown",
      "id": "wrong-generator",
      "metadata": {
        "id": "wrong-generator"
      },
      "source": [
        "#### Option 1 - find out how many features with p-value < 0.01"
      ]
    },
    {
      "cell_type": "code",
      "execution_count": null,
      "id": "mounted-textbook",
      "metadata": {
        "id": "mounted-textbook",
        "outputId": "4d61385e-e6d1-48c9-aa68-3483aca01b9b"
      },
      "outputs": [
        {
          "name": "stdout",
          "output_type": "stream",
          "text": [
            "[1] \"Option 1: Features with p-value < 0.01:\"\n",
            "[1] 6366\n"
          ]
        }
      ],
      "source": [
        "### Option 1 - find out how many features with p-value < 0.01\n",
        "\n",
        "which1 <- which(as.numeric(edgeRoutput$PValue) <= pValueCutOff)\n",
        "print(\"Option 1: Features with p-value < 0.01:\")\n",
        "print(length(which1))\n",
        "option1 <- edgeRoutput[which1, ] #save results from Option 1\n"
      ]
    },
    {
      "cell_type": "markdown",
      "id": "present-citizen",
      "metadata": {
        "id": "present-citizen"
      },
      "source": [
        "#### Option 2 - find out how many features with p-value < 0.01 and logFoldChange >= 1 or <= -1"
      ]
    },
    {
      "cell_type": "code",
      "execution_count": null,
      "id": "boxed-vessel",
      "metadata": {
        "id": "boxed-vessel",
        "outputId": "cd37a098-0011-48a8-dace-9ea62ba40c5d"
      },
      "outputs": [
        {
          "name": "stdout",
          "output_type": "stream",
          "text": [
            "[1] \"Option 2: features with p-value < 0.01 and Log Fold Change >=1 or <= -1:\"\n",
            "[1] 1274\n"
          ]
        }
      ],
      "source": [
        "### Option 2 - find out how many features with p-value < 0.01 and logFoldChange >= 1 or <= -1\n",
        "\n",
        "which2 <- which((edgeRoutput$PValue <= pValueCutOff) &\n",
        "                    (edgeRoutput$logFC >= logFCCutOff | edgeRoutput$logFC <= -logFCCutOff))\n",
        "print(\"Option 2: features with p-value < 0.01 and Log Fold Change >=1 or <= -1:\")\n",
        "print(length(which2))\n",
        "option2 <- edgeRoutput[which2, ] #save results from Option 2"
      ]
    },
    {
      "cell_type": "markdown",
      "id": "scheduled-relevance",
      "metadata": {
        "id": "scheduled-relevance"
      },
      "source": [
        "#### Option 3 - find out how many features with FDR < 0.01"
      ]
    },
    {
      "cell_type": "code",
      "execution_count": null,
      "id": "silver-plymouth",
      "metadata": {
        "id": "silver-plymouth",
        "outputId": "db79aed0-b604-4ff4-ac9c-e29c467fe752"
      },
      "outputs": [
        {
          "name": "stdout",
          "output_type": "stream",
          "text": [
            "[1] \"Option 3: features with FDR < 0.01:\"\n",
            "[1] 5598\n"
          ]
        }
      ],
      "source": [
        "### Option 3 - find out how many features with FDR < 0.01\n",
        "\n",
        "which3 <- which(as.numeric(edgeRoutput$FDR) <= 0.01)\n",
        "print(\"Option 3: features with FDR < 0.01:\")\n",
        "print(length(which3))\n",
        "option3 <- edgeRoutput[which3, ] #save results from Option 3"
      ]
    },
    {
      "cell_type": "markdown",
      "id": "racial-aerospace",
      "metadata": {
        "id": "racial-aerospace"
      },
      "source": [
        "#### Option 4 - find out how many features with FDR < 0.01 and LogFoldChange >= 1.5 or <= -1.5"
      ]
    },
    {
      "cell_type": "code",
      "execution_count": null,
      "id": "dimensional-charleston",
      "metadata": {
        "id": "dimensional-charleston",
        "outputId": "3295688a-3cce-462d-c75d-a4bfa1f81ece"
      },
      "outputs": [
        {
          "name": "stdout",
          "output_type": "stream",
          "text": [
            "[1] \"Option 4: Features with FDR < 0.01, and Log Fold change >=1.5 or <= -1.5:\"\n",
            "[1] 649\n"
          ]
        }
      ],
      "source": [
        "### Option 4 - find out how many features with FDR < 0.01 and LogFoldChange >= 1.5 or <= -1.5\n",
        "\n",
        "which4 <- which((edgeRoutput$FDR <= 0.01) &\n",
        "                    (edgeRoutput$logFC >= 1.5 | edgeRoutput$logFC <= -1.5))\n",
        "print(\"Option 4: Features with FDR < 0.01, and Log Fold change >=1.5 or <= -1.5:\")\n",
        "print(length(which4))\n",
        "option4 <- edgeRoutput[which4, ] #save results from Option 4"
      ]
    },
    {
      "cell_type": "markdown",
      "id": "growing-albert",
      "metadata": {
        "id": "growing-albert"
      },
      "source": [
        "### ** Part 3 **\n",
        "### Call function to run Enrichment analyasis (using EnrichR package) on the 4 options"
      ]
    },
    {
      "cell_type": "code",
      "execution_count": null,
      "id": "boxed-classic",
      "metadata": {
        "id": "boxed-classic",
        "outputId": "4e63c52a-682e-4f5e-dc4c-652fffd5814f"
      },
      "outputs": [
        {
          "name": "stdout",
          "output_type": "stream",
          "text": [
            "Uploading data to Enrichr... Done.\n",
            "  Querying KEGG_2019_Human... Done.\n",
            "Parsing results... Done.\n",
            "Uploading data to Enrichr... Done.\n",
            "  Querying WikiPathways_2019_Human... Done.\n",
            "Parsing results... Done.\n",
            "Uploading data to Enrichr... Done.\n",
            "  Querying KEGG_2019_Mouse... Done.\n",
            "Parsing results... Done.\n",
            "Uploading data to Enrichr... Done.\n",
            "  Querying GO_Biological_Process_2018... Done.\n",
            "Parsing results... Done.\n",
            "Uploading data to Enrichr... Done.\n",
            "  Querying Reactome_2016... Done.\n",
            "Parsing results... Done.\n",
            "Uploading data to Enrichr... Done.\n",
            "  Querying BioPlanet_2019... Done.\n",
            "Parsing results... Done.\n",
            "Uploading data to Enrichr... Done.\n",
            "  Querying ClinVar_2019... Done.\n",
            "Parsing results... Done.\n",
            "Uploading data to Enrichr... Done.\n",
            "  Querying TRRUST_Transcription_Factors_2019... Done.\n",
            "Parsing results... Done.\n",
            "Uploading data to Enrichr... Done.\n",
            "  Querying Transcription_Factor_PPIs... Done.\n",
            "Parsing results... Done.\n",
            "Uploading data to Enrichr... Done.\n",
            "  Querying TRANSFAC_and_JASPAR_PWMs... Done.\n",
            "Parsing results... Done.\n",
            "Uploading data to Enrichr... Done.\n",
            "  Querying TargetScan_microRNA_2017... Done.\n",
            "Parsing results... Done.\n",
            "Uploading data to Enrichr... Done.\n",
            "  Querying miRTarBase_2017... Done.\n",
            "Parsing results... Done.\n",
            "Uploading data to Enrichr... Done.\n",
            "  Querying DisGeNET... Done.\n",
            "Parsing results... Done.\n",
            "Uploading data to Enrichr... Done.\n",
            "  Querying OMIM_Disease... Done.\n",
            "Parsing results... Done.\n",
            "Uploading data to Enrichr... Done.\n",
            "  Querying Jensen_DISEASES... Done.\n",
            "Parsing results... Done.\n",
            "Uploading data to Enrichr... Done.\n",
            "  Querying Chromosome_Location... Done.\n",
            "Parsing results... Done.\n",
            "Uploading data to Enrichr... Done.\n",
            "  Querying VirusMINT... Done.\n",
            "Parsing results... Done.\n",
            "Uploading data to Enrichr... Done.\n",
            "  Querying HMDB_Metabolites... Done.\n",
            "Parsing results... Done.\n",
            "Uploading data to Enrichr... Done.\n",
            "  Querying dbGap... Done.\n",
            "Parsing results... Done.\n",
            "Uploading data to Enrichr... Done.\n",
            "  Querying Virus-Host_PPI_P-HIPSTer_2020... Done.\n",
            "Parsing results... Done.\n",
            "Uploading data to Enrichr... Done.\n",
            "  Querying MSigDB_Hallmark_2020... Done.\n",
            "Parsing results... Done.\n",
            "Uploading data to Enrichr... Done.\n",
            "  Querying ProteomicsDB_2020... Done.\n",
            "Parsing results... Done.\n",
            "Uploading data to Enrichr... Done.\n",
            "  Querying GWAS_Catalog_2019... Done.\n",
            "Parsing results... Done.\n",
            "Uploading data to Enrichr... Done.\n",
            "  Querying InterPro_Domains_2019... Done.\n",
            "Parsing results... Done.\n",
            "Uploading data to Enrichr... Done.\n",
            "  Querying CCLE_Proteomics_2020... Done.\n",
            "Parsing results... Done.\n",
            "Uploading data to Enrichr... Done.\n",
            "  Querying PheWeb_2019... Done.\n",
            "Parsing results... Done.\n",
            "Uploading data to Enrichr... Done.\n",
            "  Querying Pfam_Domains_2019... Done.\n",
            "Parsing results... Done.\n",
            "Uploading data to Enrichr... Done.\n",
            "  Querying Genes_Associated_with_NIH_Grants... Done.\n",
            "Parsing results... Done.\n"
          ]
        }
      ],
      "source": [
        "\n",
        "\n",
        "# Option 1\n",
        "library(openxlsx)\n",
        "funcSubsetForEnrichR(shortListResults = option1,\n",
        "                     filename1 = \"/home/jupyter/tutorials/storage/output/option1_shortlist_results.csv\",\n",
        "                     optionName1 = \"option1\")"
      ]
    },
    {
      "cell_type": "code",
      "execution_count": null,
      "id": "rental-check",
      "metadata": {
        "id": "rental-check",
        "outputId": "10247fbc-13bf-401c-c84a-f9e9539202bb"
      },
      "outputs": [
        {
          "name": "stdout",
          "output_type": "stream",
          "text": [
            "Uploading data to Enrichr... Done.\n",
            "  Querying KEGG_2019_Human... Done.\n",
            "Parsing results... Done.\n",
            "Uploading data to Enrichr... Done.\n",
            "  Querying WikiPathways_2019_Human... Done.\n",
            "Parsing results... Done.\n",
            "Uploading data to Enrichr... Done.\n",
            "  Querying KEGG_2019_Mouse... Done.\n",
            "Parsing results... Done.\n",
            "Uploading data to Enrichr... Done.\n",
            "  Querying GO_Biological_Process_2018... Done.\n",
            "Parsing results... Done.\n",
            "Uploading data to Enrichr... Done.\n",
            "  Querying Reactome_2016... Done.\n",
            "Parsing results... Done.\n",
            "Uploading data to Enrichr... Done.\n",
            "  Querying BioPlanet_2019... Done.\n",
            "Parsing results... Done.\n",
            "Uploading data to Enrichr... Done.\n",
            "  Querying ClinVar_2019... Done.\n",
            "Parsing results... Done.\n",
            "Uploading data to Enrichr... Done.\n",
            "  Querying TRRUST_Transcription_Factors_2019... Done.\n",
            "Parsing results... Done.\n",
            "Uploading data to Enrichr... Done.\n",
            "  Querying Transcription_Factor_PPIs... Done.\n",
            "Parsing results... Done.\n",
            "Uploading data to Enrichr... Done.\n",
            "  Querying TRANSFAC_and_JASPAR_PWMs... Done.\n",
            "Parsing results... Done.\n",
            "Uploading data to Enrichr... Done.\n",
            "  Querying TargetScan_microRNA_2017... Done.\n",
            "Parsing results... Done.\n",
            "Uploading data to Enrichr... Done.\n",
            "  Querying miRTarBase_2017... Done.\n",
            "Parsing results... Done.\n",
            "Uploading data to Enrichr... Done.\n",
            "  Querying DisGeNET... Done.\n",
            "Parsing results... Done.\n",
            "Uploading data to Enrichr... Done.\n",
            "  Querying OMIM_Disease... Done.\n",
            "Parsing results... Done.\n",
            "Uploading data to Enrichr... Done.\n",
            "  Querying Jensen_DISEASES... Done.\n",
            "Parsing results... Done.\n",
            "Uploading data to Enrichr... Done.\n",
            "  Querying Chromosome_Location... Done.\n",
            "Parsing results... Done.\n",
            "Uploading data to Enrichr... Done.\n",
            "  Querying VirusMINT... Done.\n",
            "Parsing results... Done.\n",
            "Uploading data to Enrichr... Done.\n",
            "  Querying HMDB_Metabolites... Done.\n",
            "Parsing results... Done.\n",
            "Uploading data to Enrichr... Done.\n",
            "  Querying dbGap... Done.\n",
            "Parsing results... Done.\n",
            "Uploading data to Enrichr... Done.\n",
            "  Querying Virus-Host_PPI_P-HIPSTer_2020... Done.\n",
            "Parsing results... Done.\n",
            "Uploading data to Enrichr... Done.\n",
            "  Querying MSigDB_Hallmark_2020... Done.\n",
            "Parsing results... Done.\n",
            "Uploading data to Enrichr... Done.\n",
            "  Querying ProteomicsDB_2020... Done.\n",
            "Parsing results... Done.\n",
            "Uploading data to Enrichr... Done.\n",
            "  Querying GWAS_Catalog_2019... Done.\n",
            "Parsing results... Done.\n",
            "Uploading data to Enrichr... Done.\n",
            "  Querying InterPro_Domains_2019... Done.\n",
            "Parsing results... Done.\n",
            "Uploading data to Enrichr... Done.\n",
            "  Querying CCLE_Proteomics_2020... Done.\n",
            "Parsing results... Done.\n",
            "Uploading data to Enrichr... Done.\n",
            "  Querying PheWeb_2019... Done.\n",
            "Parsing results... Done.\n",
            "Uploading data to Enrichr... Done.\n",
            "  Querying Pfam_Domains_2019... Done.\n",
            "Parsing results... Done.\n",
            "Uploading data to Enrichr... Done.\n",
            "  Querying Genes_Associated_with_NIH_Grants... Done.\n",
            "Parsing results... Done.\n"
          ]
        }
      ],
      "source": [
        "####Calling function to subset gene results and run EnrichR for\n",
        "# Option 2\n",
        "library(openxlsx)\n",
        "funcSubsetForEnrichR(shortListResults = option2,\n",
        "                     filename1 = \"/home/jupyter/tutorials/storage/output/option2_shortlist_results.csv\",\n",
        "                     optionName1 = \"option2\")"
      ]
    },
    {
      "cell_type": "code",
      "execution_count": null,
      "id": "alive-cassette",
      "metadata": {
        "id": "alive-cassette",
        "outputId": "95d50ad4-c19d-405c-b443-32b1069813cc"
      },
      "outputs": [
        {
          "name": "stdout",
          "output_type": "stream",
          "text": [
            "Uploading data to Enrichr... Done.\n",
            "  Querying KEGG_2019_Human... Done.\n",
            "Parsing results... Done.\n",
            "Uploading data to Enrichr... Done.\n",
            "  Querying WikiPathways_2019_Human... Done.\n",
            "Parsing results... Done.\n",
            "Uploading data to Enrichr... Done.\n",
            "  Querying KEGG_2019_Mouse... Done.\n",
            "Parsing results... Done.\n",
            "Uploading data to Enrichr... Done.\n",
            "  Querying GO_Biological_Process_2018... Done.\n",
            "Parsing results... Done.\n",
            "Uploading data to Enrichr... Done.\n",
            "  Querying Reactome_2016... Done.\n",
            "Parsing results... Done.\n",
            "Uploading data to Enrichr... Done.\n",
            "  Querying BioPlanet_2019... Done.\n",
            "Parsing results... Done.\n",
            "Uploading data to Enrichr... Done.\n",
            "  Querying ClinVar_2019... Done.\n",
            "Parsing results... Done.\n",
            "Uploading data to Enrichr... Done.\n",
            "  Querying TRRUST_Transcription_Factors_2019... Done.\n",
            "Parsing results... Done.\n",
            "Uploading data to Enrichr... Done.\n",
            "  Querying Transcription_Factor_PPIs... Done.\n",
            "Parsing results... Done.\n",
            "Uploading data to Enrichr... Done.\n",
            "  Querying TRANSFAC_and_JASPAR_PWMs... Done.\n",
            "Parsing results... Done.\n",
            "Uploading data to Enrichr... Done.\n",
            "  Querying TargetScan_microRNA_2017... Done.\n",
            "Parsing results... Done.\n",
            "Uploading data to Enrichr... Done.\n",
            "  Querying miRTarBase_2017... Done.\n",
            "Parsing results... Done.\n",
            "Uploading data to Enrichr... Done.\n",
            "  Querying DisGeNET... Done.\n",
            "Parsing results... Done.\n",
            "Uploading data to Enrichr... Done.\n",
            "  Querying OMIM_Disease... Done.\n",
            "Parsing results... Done.\n",
            "Uploading data to Enrichr... Done.\n",
            "  Querying Jensen_DISEASES... Done.\n",
            "Parsing results... Done.\n",
            "Uploading data to Enrichr... Done.\n",
            "  Querying Chromosome_Location... Done.\n",
            "Parsing results... Done.\n",
            "Uploading data to Enrichr... Done.\n",
            "  Querying VirusMINT... Done.\n",
            "Parsing results... Done.\n",
            "Uploading data to Enrichr... Done.\n",
            "  Querying HMDB_Metabolites... Done.\n",
            "Parsing results... Done.\n",
            "Uploading data to Enrichr... Done.\n",
            "  Querying dbGap... Done.\n",
            "Parsing results... Done.\n",
            "Uploading data to Enrichr... Done.\n",
            "  Querying Virus-Host_PPI_P-HIPSTer_2020... Done.\n",
            "Parsing results... Done.\n",
            "Uploading data to Enrichr... Done.\n",
            "  Querying MSigDB_Hallmark_2020... Done.\n",
            "Parsing results... Done.\n",
            "Uploading data to Enrichr... Done.\n",
            "  Querying ProteomicsDB_2020... Done.\n",
            "Parsing results... Done.\n",
            "Uploading data to Enrichr... Done.\n",
            "  Querying GWAS_Catalog_2019... Done.\n",
            "Parsing results... Done.\n",
            "Uploading data to Enrichr... Done.\n",
            "  Querying InterPro_Domains_2019... Done.\n",
            "Parsing results... Done.\n",
            "Uploading data to Enrichr... Done.\n",
            "  Querying CCLE_Proteomics_2020... Done.\n",
            "Parsing results... Done.\n",
            "Uploading data to Enrichr... Done.\n",
            "  Querying PheWeb_2019... Done.\n",
            "Parsing results... Done.\n",
            "Uploading data to Enrichr... Done.\n",
            "  Querying Pfam_Domains_2019... Done.\n",
            "Parsing results... Done.\n",
            "Uploading data to Enrichr... Done.\n",
            "  Querying Genes_Associated_with_NIH_Grants... Done.\n",
            "Parsing results... Done.\n"
          ]
        }
      ],
      "source": [
        "####Calling function to subset gene results and run EnrichR for\n",
        "# Option 3\n",
        "library(openxlsx)\n",
        "funcSubsetForEnrichR(shortListResults = option3,\n",
        "                     filename1 = \"/home/jupyter/tutorials/storage/output/option3_shortlist_results.csv\",\n",
        "                     optionName1 = \"option3\")"
      ]
    },
    {
      "cell_type": "code",
      "execution_count": null,
      "id": "square-integration",
      "metadata": {
        "id": "square-integration"
      },
      "outputs": [],
      "source": [
        "####Calling function to subset gene results and run EnrichR for\n",
        "# Option 4\n",
        "library(openxlsx)\n",
        "funcSubsetForEnrichR(shortListResults = option4,\n",
        "                     filename1 = \"/home/jupyter/tutorials/storage/output/option4_shortlist_results.csv\",\n",
        "                     optionName1 = \"option4\")"
      ]
    },
    {
      "cell_type": "markdown",
      "id": "monetary-pearl",
      "metadata": {
        "id": "monetary-pearl"
      },
      "source": [
        "#### All Analaysis steps done.\n"
      ]
    }
  ],
  "metadata": {
    "environment": {
      "name": "r-cpu.3-6.m65",
      "type": "gcloud",
      "uri": "gcr.io/deeplearning-platform-release/r-cpu.3-6:m65"
    },
    "kernelspec": {
      "display_name": "R",
      "name": "ir"
    },
    "language_info": {
      "name": "R"
    },
    "colab": {
      "provenance": [],
      "gpuType": "T4",
      "include_colab_link": true
    }
  },
  "nbformat": 4,
  "nbformat_minor": 5
}