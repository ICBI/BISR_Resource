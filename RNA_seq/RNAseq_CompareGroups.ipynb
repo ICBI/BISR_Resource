{
  "cells": [
    {
      "cell_type": "markdown",
      "metadata": {
        "id": "view-in-github",
        "colab_type": "text"
      },
      "source": [
        "<a href=\"https://colab.research.google.com/github/ICBI/BISR_Tutorials/blob/main/RNA_seq/RNAseq_CompareGroups.ipynb\" target=\"_parent\"><img src=\"https://colab.research.google.com/assets/colab-badge.svg\" alt=\"Open In Colab\"/></a>"
      ]
    },
    {
      "cell_type": "markdown",
      "id": "flexible-substitute",
      "metadata": {
        "id": "flexible-substitute"
      },
      "source": [
        "# Group comparision analysis example using RNA-seq data"
      ]
    },
    {
      "cell_type": "markdown",
      "source": [
        "## Datasaet used in the example\n",
        "Example using TCGA ESCA (Easophageal cancer) obtained from Broad Inst TCGA data repo Firebrowser (<http://firebrowse.org>)\n",
        "\n",
        "## Assumptions for analysis\n",
        "* User knows programming to be able to clean data and put it in the right format\n",
        "\n",
        "## Input data files\n",
        "* Two input data files:\n",
        "(a) Gene expression data from RNA-seq (raw counts), and\n",
        "(b) clinical data\n",
        "* RNA-seq file format :\n",
        " * Rows are features (gene names), Columns are samples. Only tumor samples were chosen for this analysis\n",
        " * RNA-seq file format : Features are assumed to be in this format `GeneName|GeneID` . Example shown here is from public TCGA data obtained from Firebrowser.\n",
        "* Clinical data: This is a cleaned file that contains two columns - patient ids and vital status (Dead/Alive)\n",
        "* User knows to identify baseline and comparison groups for analysis\n",
        "\n",
        "## Goal of this analysis\n",
        "* Use the gene expression data from RNA-seq (raw counts) obtained from tumor tissue of Esophageal cancer patients to compare Dead and Alive patients.\n",
        "* Baseline Group = Alive\n",
        "* Comparison Group = Dead\n",
        "\n",
        "## Analysis Steps\n",
        "\n",
        "* Mount google drive (if google colab is used)\n",
        "* Install packages\n",
        "* Read in cleaned gene exp data\n",
        "* Read in cleaned clinical data file\n",
        "* Use the clinical data to separate gene expression data for baseline and comparison groups\n",
        "* Set labels for the groups\n",
        "* Call function to perform the group comparison analysis. This function will use the Bioconducor package `EdgeR` <https://bioconductor.org/packages/release/bioc/html/edgeR.html> . The package requires the RNA-seq data to be in the form of raw counts.\n",
        "* Read in the results of group comp analysis\n",
        "* Select threshold for short listing results. Ideal threshold would result in number of genes  less than 700 or 1000.\n",
        "* Call function to perform Enrichment Analysis. This is done using the EnrichR R package. <https://cran.r-project.org/web/packages/enrichR/index.html>"
      ],
      "metadata": {
        "id": "u3LIId0rmaim"
      },
      "id": "u3LIId0rmaim"
    },
    {
      "cell_type": "markdown",
      "id": "meaningful-amendment",
      "metadata": {
        "id": "meaningful-amendment"
      },
      "source": [
        "### Step 0 - Before we start\n",
        "* Check to see if run type is \"R\" and not \"Python\""
      ]
    },
    {
      "cell_type": "markdown",
      "source": [
        "Mount google drive - takes a few minutes"
      ],
      "metadata": {
        "id": "4xcCm-NCkQge"
      },
      "id": "4xcCm-NCkQge"
    },
    {
      "cell_type": "code",
      "source": [
        "install.packages(\"googledrive\") #only need to install occasionally install.packages(“httpuv”)\n",
        "library(\"googledrive\")\n",
        "#library(\"httpuv\")"
      ],
      "metadata": {
        "colab": {
          "base_uri": "https://localhost:8080/"
        },
        "id": "UTovlmR_kwZz",
        "outputId": "bee8ec8a-6687-4034-c291-856474e2c0b7"
      },
      "id": "UTovlmR_kwZz",
      "execution_count": 13,
      "outputs": [
        {
          "output_type": "stream",
          "name": "stderr",
          "text": [
            "Installing package into ‘/usr/local/lib/R/site-library’\n",
            "(as ‘lib’ is unspecified)\n",
            "\n"
          ]
        }
      ]
    },
    {
      "cell_type": "code",
      "source": [
        "#may update python version  #occasionally\n",
        "if (file.exists(\"/usr/local/lib/python3.7/dist-packages/google/colab/_ipython.py\")) {\n",
        "  install.packages(\"R.utils\")\n",
        "  library(\"R.utils\")\n",
        "  library(\"httr\")\n",
        "  my_check <- function() {return(TRUE)}\n",
        "  reassignInPackage(\"is_interactive\", pkgName = \"httr\", my_check)\n",
        "  options(rlang_interactive=TRUE)\n",
        "}"
      ],
      "metadata": {
        "id": "Nt_RQZ2LkvrG"
      },
      "id": "Nt_RQZ2LkvrG",
      "execution_count": 9,
      "outputs": []
    },
    {
      "cell_type": "code",
      "source": [
        "#testing R\n",
        "test1 <- 5\n",
        "print(test1)"
      ],
      "metadata": {
        "id": "rs62l9w0POS4",
        "colab": {
          "base_uri": "https://localhost:8080/"
        },
        "outputId": "f08799a5-9ff9-45da-cd08-9b0118d853b2"
      },
      "id": "rs62l9w0POS4",
      "execution_count": 10,
      "outputs": [
        {
          "output_type": "stream",
          "name": "stdout",
          "text": [
            "[1] 5\n"
          ]
        }
      ]
    },
    {
      "cell_type": "markdown",
      "id": "continuous-scope",
      "metadata": {
        "id": "continuous-scope"
      },
      "source": [
        "### Install R/Bioconductor packages\n",
        "NOTE - this takes SEVERAL minutes to run"
      ]
    },
    {
      "cell_type": "code",
      "execution_count": 11,
      "id": "viral-boating",
      "metadata": {
        "id": "viral-boating",
        "outputId": "f0349c5c-627a-413e-b741-0666baf9566b",
        "colab": {
          "base_uri": "https://localhost:8080/"
        }
      },
      "outputs": [
        {
          "output_type": "stream",
          "name": "stderr",
          "text": [
            "Installing package into ‘/usr/local/lib/R/site-library’\n",
            "(as ‘lib’ is unspecified)\n",
            "\n"
          ]
        }
      ],
      "source": [
        "\n",
        "if(!requireNamespace(\"BiocManager\", quietly = TRUE))\n",
        "    install.packages(\"BiocManager\")\n",
        "install.packages(\"openxlsx\")\n",
        "library(openxlsx)\n",
        "library(stringr)"
      ]
    },
    {
      "cell_type": "code",
      "source": [
        "BiocManager::install(\"edgeR\")\n",
        "library(edgeR)"
      ],
      "metadata": {
        "id": "7YmC29jlmVqs",
        "outputId": "27569cb4-bb92-4e25-8f01-4ad98871e31a",
        "colab": {
          "base_uri": "https://localhost:8080/"
        }
      },
      "id": "7YmC29jlmVqs",
      "execution_count": 14,
      "outputs": [
        {
          "output_type": "stream",
          "name": "stderr",
          "text": [
            "'getOption(\"repos\")' replaces Bioconductor standard repositories, see\n",
            "'help(\"repositories\", package = \"BiocManager\")' for details.\n",
            "Replacement repositories:\n",
            "    CRAN: https://cran.rstudio.com\n",
            "\n",
            "Bioconductor version 3.17 (BiocManager 1.30.21), R 4.3.1 (2023-06-16)\n",
            "\n",
            "Installing package(s) 'BiocVersion', 'edgeR'\n",
            "\n",
            "also installing the dependencies ‘limma’, ‘locfit’\n",
            "\n",
            "\n",
            "Old packages: 'bit', 'broom', 'bslib', 'cpp11', 'curl', 'devtools', 'digest',\n",
            "  'gargle', 'gert', 'googledrive', 'googlesheets4', 'haven', 'highr',\n",
            "  'isoband', 'jsonlite', 'pkgbuild', 'pkgload', 'processx', 'rmarkdown',\n",
            "  'roxygen2', 'testthat', 'tidyverse', 'usethis', 'vctrs', 'whisker', 'boot',\n",
            "  'foreign'\n",
            "\n",
            "Loading required package: limma\n",
            "\n"
          ]
        }
      ]
    },
    {
      "cell_type": "code",
      "source": [
        "install.packages(\"enrichR\")\n",
        "library(enrichR)"
      ],
      "metadata": {
        "id": "14Se7uWUlXNa",
        "outputId": "483c493b-4cc0-4c90-e329-107c9b3b728a",
        "colab": {
          "base_uri": "https://localhost:8080/"
        }
      },
      "id": "14Se7uWUlXNa",
      "execution_count": null,
      "outputs": [
        {
          "output_type": "stream",
          "name": "stderr",
          "text": [
            "Installing package into ‘/usr/local/lib/R/site-library’\n",
            "(as ‘lib’ is unspecified)\n",
            "\n"
          ]
        }
      ]
    },
    {
      "cell_type": "markdown",
      "id": "opening-bullet",
      "metadata": {
        "id": "opening-bullet"
      },
      "source": [
        "### Location of input files\n",
        "Note - When using github make sure to use the link to the \"raw file\" on github"
      ]
    },
    {
      "cell_type": "code",
      "execution_count": 36,
      "id": "genetic-newspaper",
      "metadata": {
        "id": "genetic-newspaper"
      },
      "outputs": [],
      "source": [
        "enrichRFileLocation <- \"https://raw.githubusercontent.com/ICBI/BISR_Tutorials/main/RNA_seq/input/20201203-EnrichR-Databases.txt\"\n",
        "\n",
        "geneExpLocation <- \"https://raw.githubusercontent.com/ICBI/BISR_Tutorials/main/RNA_seq/input/20210318_TCGA_ESCA_RNAseq_GeneExp_RawCounts_Tumor.tsv\"\n",
        "\n",
        "clinFileLocation <- \"https://raw.githubusercontent.com/ICBI/BISR_Tutorials/main/RNA_seq/input/TCGA_ESCA_ClinDataVitalStatus.tsv\""
      ]
    },
    {
      "cell_type": "markdown",
      "source": [
        "### Output folder in google drive\n"
      ],
      "metadata": {
        "id": "9S6Dyl1LPiAd"
      },
      "id": "9S6Dyl1LPiAd"
    },
    {
      "cell_type": "code",
      "source": [
        "groupCompOutputLocation <- \"/content/sample_data/outputedgeR_ExactTest.csv\"\n",
        "\n",
        "outputFolder = \"/content/sample_data/\""
      ],
      "metadata": {
        "id": "TLtsq8DNPlVK"
      },
      "id": "TLtsq8DNPlVK",
      "execution_count": 59,
      "outputs": []
    },
    {
      "cell_type": "markdown",
      "source": [
        "#### Load the R code files - these are  helper function files that perform a specific analysis\n",
        "Note - When using github make sure to use the link to the \"raw file\" on github"
      ],
      "metadata": {
        "id": "gSlhFnXXpd-z"
      },
      "id": "gSlhFnXXpd-z"
    },
    {
      "cell_type": "code",
      "source": [
        "## call function to run EdgeR\n",
        "source(\"https://raw.githubusercontent.com/ICBI/BISR_Tutorials/main/RNA_seq/funcSubsetForEdgeR.R\")\n",
        "\n",
        "####Calling function to subset gene results and run EnrichR for each option\n",
        "source(\"https://raw.githubusercontent.com/ICBI/BISR_Tutorials/main/RNA_seq/funcEnrichment.R\")"
      ],
      "metadata": {
        "id": "rERQKifRphkx"
      },
      "id": "rERQKifRphkx",
      "execution_count": 44,
      "outputs": []
    },
    {
      "cell_type": "markdown",
      "id": "sharp-routine",
      "metadata": {
        "id": "sharp-routine"
      },
      "source": [
        "### Step 1 - Group comparison analysis"
      ]
    },
    {
      "cell_type": "markdown",
      "id": "motivated-counter",
      "metadata": {
        "id": "motivated-counter"
      },
      "source": [
        "#### Read in gene expression file"
      ]
    },
    {
      "cell_type": "code",
      "execution_count": 18,
      "id": "wired-probability",
      "metadata": {
        "id": "wired-probability",
        "outputId": "86d42ccd-07b1-4962-b6e8-856abf865c84",
        "colab": {
          "base_uri": "https://localhost:8080/",
          "height": 303
        }
      },
      "outputs": [
        {
          "output_type": "display_data",
          "data": {
            "text/html": [
              "<style>\n",
              ".list-inline {list-style: none; margin:0; padding: 0}\n",
              ".list-inline>li {display: inline-block}\n",
              ".list-inline>li:not(:last-child)::after {content: \"\\00b7\"; padding: 0 .5ex}\n",
              "</style>\n",
              "<ol class=list-inline><li>20531</li><li>173</li></ol>\n"
            ],
            "text/markdown": "1. 20531\n2. 173\n\n\n",
            "text/latex": "\\begin{enumerate*}\n\\item 20531\n\\item 173\n\\end{enumerate*}\n",
            "text/plain": [
              "[1] 20531   173"
            ]
          },
          "metadata": {}
        },
        {
          "output_type": "display_data",
          "data": {
            "text/html": [
              "<table class=\"dataframe\">\n",
              "<caption>A data.frame: 6 × 3</caption>\n",
              "<thead>\n",
              "\t<tr><th></th><th scope=col>TCGA.2H.A9GF</th><th scope=col>TCGA.2H.A9GG</th><th scope=col>TCGA.2H.A9GH</th></tr>\n",
              "\t<tr><th></th><th scope=col>&lt;dbl&gt;</th><th scope=col>&lt;dbl&gt;</th><th scope=col>&lt;dbl&gt;</th></tr>\n",
              "</thead>\n",
              "<tbody>\n",
              "\t<tr><th scope=row>DLGAP2|9228</th><td>   3</td><td>  11</td><td>  10</td></tr>\n",
              "\t<tr><th scope=row>DLGAP3|58512</th><td>  32</td><td> 943</td><td>  23</td></tr>\n",
              "\t<tr><th scope=row>DLGAP4|22839</th><td>7327</td><td>8041</td><td>5178</td></tr>\n",
              "\t<tr><th scope=row>DLGAP5|9787</th><td>2284</td><td> 650</td><td>2744</td></tr>\n",
              "\t<tr><th scope=row>DLK1|8788</th><td>   1</td><td>   0</td><td>   0</td></tr>\n",
              "\t<tr><th scope=row>DLK2|65989</th><td>   7</td><td> 175</td><td>   8</td></tr>\n",
              "</tbody>\n",
              "</table>\n"
            ],
            "text/markdown": "\nA data.frame: 6 × 3\n\n| <!--/--> | TCGA.2H.A9GF &lt;dbl&gt; | TCGA.2H.A9GG &lt;dbl&gt; | TCGA.2H.A9GH &lt;dbl&gt; |\n|---|---|---|---|\n| DLGAP2|9228 |    3 |   11 |   10 |\n| DLGAP3|58512 |   32 |  943 |   23 |\n| DLGAP4|22839 | 7327 | 8041 | 5178 |\n| DLGAP5|9787 | 2284 |  650 | 2744 |\n| DLK1|8788 |    1 |    0 |    0 |\n| DLK2|65989 |    7 |  175 |    8 |\n\n",
            "text/latex": "A data.frame: 6 × 3\n\\begin{tabular}{r|lll}\n  & TCGA.2H.A9GF & TCGA.2H.A9GG & TCGA.2H.A9GH\\\\\n  & <dbl> & <dbl> & <dbl>\\\\\n\\hline\n\tDLGAP2\\textbar{}9228 &    3 &   11 &   10\\\\\n\tDLGAP3\\textbar{}58512 &   32 &  943 &   23\\\\\n\tDLGAP4\\textbar{}22839 & 7327 & 8041 & 5178\\\\\n\tDLGAP5\\textbar{}9787 & 2284 &  650 & 2744\\\\\n\tDLK1\\textbar{}8788 &    1 &    0 &    0\\\\\n\tDLK2\\textbar{}65989 &    7 &  175 &    8\\\\\n\\end{tabular}\n",
            "text/plain": [
              "             TCGA.2H.A9GF TCGA.2H.A9GG TCGA.2H.A9GH\n",
              "DLGAP2|9228     3           11           10        \n",
              "DLGAP3|58512   32          943           23        \n",
              "DLGAP4|22839 7327         8041         5178        \n",
              "DLGAP5|9787  2284          650         2744        \n",
              "DLK1|8788       1            0            0        \n",
              "DLK2|65989      7          175            8        "
            ]
          },
          "metadata": {}
        }
      ],
      "source": [
        "#20531 rows features, 173 tumor samples columns\n",
        "geneExp <- read.csv(file = geneExpLocation,\n",
        "                    sep=\"\\t\", stringsAsFactors = F, row.names = 1)\n",
        "\n",
        "# Check the dimenstions\n",
        "dim(geneExp)\n",
        "\n",
        "#View Rows 5000-5010 - can see gene names\n",
        "head(geneExp[5000:5010,1:3])"
      ]
    },
    {
      "cell_type": "markdown",
      "id": "excited-production",
      "metadata": {
        "id": "excited-production"
      },
      "source": [
        "#### Read in cleaned clinical data"
      ]
    },
    {
      "cell_type": "code",
      "execution_count": 20,
      "id": "included-internet",
      "metadata": {
        "id": "included-internet",
        "outputId": "2d99ec89-9a49-4394-98c6-3b80166bf1c0",
        "colab": {
          "base_uri": "https://localhost:8080/",
          "height": 303
        }
      },
      "outputs": [
        {
          "output_type": "display_data",
          "data": {
            "text/html": [
              "<style>\n",
              ".list-inline {list-style: none; margin:0; padding: 0}\n",
              ".list-inline>li {display: inline-block}\n",
              ".list-inline>li:not(:last-child)::after {content: \"\\00b7\"; padding: 0 .5ex}\n",
              "</style>\n",
              "<ol class=list-inline><li>185</li><li>3</li></ol>\n"
            ],
            "text/markdown": "1. 185\n2. 3\n\n\n",
            "text/latex": "\\begin{enumerate*}\n\\item 185\n\\item 3\n\\end{enumerate*}\n",
            "text/plain": [
              "[1] 185   3"
            ]
          },
          "metadata": {}
        },
        {
          "output_type": "display_data",
          "data": {
            "text/html": [
              "<table class=\"dataframe\">\n",
              "<caption>A data.frame: 6 × 3</caption>\n",
              "<thead>\n",
              "\t<tr><th></th><th scope=col>Colname</th><th scope=col>V1</th><th scope=col>V2</th></tr>\n",
              "\t<tr><th></th><th scope=col>&lt;int&gt;</th><th scope=col>&lt;chr&gt;</th><th scope=col>&lt;chr&gt;</th></tr>\n",
              "</thead>\n",
              "<tbody>\n",
              "\t<tr><th scope=row>1</th><td>1</td><td>TCGA.IC.A6RF</td><td>alive</td></tr>\n",
              "\t<tr><th scope=row>2</th><td>2</td><td>TCGA.JY.A6FB</td><td>alive</td></tr>\n",
              "\t<tr><th scope=row>3</th><td>3</td><td>TCGA.JY.A938</td><td>alive</td></tr>\n",
              "\t<tr><th scope=row>4</th><td>4</td><td>TCGA.L5.A43I</td><td>dead </td></tr>\n",
              "\t<tr><th scope=row>5</th><td>5</td><td>TCGA.L5.A43J</td><td>dead </td></tr>\n",
              "\t<tr><th scope=row>6</th><td>6</td><td>TCGA.L5.A43M</td><td>alive</td></tr>\n",
              "</tbody>\n",
              "</table>\n"
            ],
            "text/markdown": "\nA data.frame: 6 × 3\n\n| <!--/--> | Colname &lt;int&gt; | V1 &lt;chr&gt; | V2 &lt;chr&gt; |\n|---|---|---|---|\n| 1 | 1 | TCGA.IC.A6RF | alive |\n| 2 | 2 | TCGA.JY.A6FB | alive |\n| 3 | 3 | TCGA.JY.A938 | alive |\n| 4 | 4 | TCGA.L5.A43I | dead  |\n| 5 | 5 | TCGA.L5.A43J | dead  |\n| 6 | 6 | TCGA.L5.A43M | alive |\n\n",
            "text/latex": "A data.frame: 6 × 3\n\\begin{tabular}{r|lll}\n  & Colname & V1 & V2\\\\\n  & <int> & <chr> & <chr>\\\\\n\\hline\n\t1 & 1 & TCGA.IC.A6RF & alive\\\\\n\t2 & 2 & TCGA.JY.A6FB & alive\\\\\n\t3 & 3 & TCGA.JY.A938 & alive\\\\\n\t4 & 4 & TCGA.L5.A43I & dead \\\\\n\t5 & 5 & TCGA.L5.A43J & dead \\\\\n\t6 & 6 & TCGA.L5.A43M & alive\\\\\n\\end{tabular}\n",
            "text/plain": [
              "  Colname V1           V2   \n",
              "1 1       TCGA.IC.A6RF alive\n",
              "2 2       TCGA.JY.A6FB alive\n",
              "3 3       TCGA.JY.A938 alive\n",
              "4 4       TCGA.L5.A43I dead \n",
              "5 5       TCGA.L5.A43J dead \n",
              "6 6       TCGA.L5.A43M alive"
            ]
          },
          "metadata": {}
        }
      ],
      "source": [
        "\n",
        "\n",
        "# 185 sample  IDs\n",
        "clinData <- read.csv(file = clinFileLocation,\n",
        "                     sep = \"\\t\", stringsAsFactors = F)\n",
        "dim(clinData)\n",
        "head(clinData)\n"
      ]
    },
    {
      "cell_type": "markdown",
      "id": "occasional-miami",
      "metadata": {
        "id": "occasional-miami"
      },
      "source": [
        "#### Subset clinical data  into two data frames - dead and alive"
      ]
    },
    {
      "cell_type": "code",
      "execution_count": 21,
      "id": "surprising-voltage",
      "metadata": {
        "id": "surprising-voltage"
      },
      "outputs": [],
      "source": [
        "\n",
        "\n",
        "## Subset clinical data patients into two data frames\n",
        "\n",
        "clinDataAlive <- subset(clinData, V2 == \"alive\") #128 patients\n",
        "clinDataDead <- subset(clinData, V2 == \"dead\") #57 patients dead\n"
      ]
    },
    {
      "cell_type": "code",
      "execution_count": 22,
      "id": "novel-headquarters",
      "metadata": {
        "id": "novel-headquarters",
        "outputId": "114144f3-c11a-4ac3-f12c-e2e335777751",
        "colab": {
          "base_uri": "https://localhost:8080/",
          "height": 34
        }
      },
      "outputs": [
        {
          "output_type": "display_data",
          "data": {
            "text/html": [
              "<style>\n",
              ".list-inline {list-style: none; margin:0; padding: 0}\n",
              ".list-inline>li {display: inline-block}\n",
              ".list-inline>li:not(:last-child)::after {content: \"\\00b7\"; padding: 0 .5ex}\n",
              "</style>\n",
              "<ol class=list-inline><li>128</li><li>3</li></ol>\n"
            ],
            "text/markdown": "1. 128\n2. 3\n\n\n",
            "text/latex": "\\begin{enumerate*}\n\\item 128\n\\item 3\n\\end{enumerate*}\n",
            "text/plain": [
              "[1] 128   3"
            ]
          },
          "metadata": {}
        }
      ],
      "source": [
        "#checks\n",
        "dim(clinDataAlive)"
      ]
    },
    {
      "cell_type": "markdown",
      "id": "center-davis",
      "metadata": {
        "id": "center-davis"
      },
      "source": [
        "#### Subset gene exp data  into two data frames - dead and alive"
      ]
    },
    {
      "cell_type": "code",
      "execution_count": 23,
      "id": "casual-sensitivity",
      "metadata": {
        "id": "casual-sensitivity"
      },
      "outputs": [],
      "source": [
        "\n",
        "## Subset gene exp data into two data frames - alive and dead\n",
        "#Make sure data is numerical format, not strings\n",
        "\n",
        "#Subset alive patients\n",
        "matchBaseline <- which(colnames(geneExp) %in% clinDataAlive$V1)\n",
        "geneExpBaseline <- geneExp[,matchBaseline] #124 samples alive\n",
        "\n",
        "#Subset dead patients\n",
        "matchComparison <- which(colnames(geneExp) %in% clinDataDead$V1)\n",
        "geneExpComparison<- geneExp[,matchComparison] # 49 samples dead\n",
        "\n",
        "#Get number of columns\n",
        "nColBaseline <- ncol(geneExpBaseline)\n",
        "nColComparision <- ncol(geneExpComparison)"
      ]
    },
    {
      "cell_type": "code",
      "execution_count": 24,
      "id": "natural-ireland",
      "metadata": {
        "id": "natural-ireland",
        "outputId": "baa44d63-afa2-4d00-fff8-abd432ff0808",
        "colab": {
          "base_uri": "https://localhost:8080/",
          "height": 52
        }
      },
      "outputs": [
        {
          "output_type": "display_data",
          "data": {
            "text/html": [
              "<style>\n",
              ".list-inline {list-style: none; margin:0; padding: 0}\n",
              ".list-inline>li {display: inline-block}\n",
              ".list-inline>li:not(:last-child)::after {content: \"\\00b7\"; padding: 0 .5ex}\n",
              "</style>\n",
              "<ol class=list-inline><li>20531</li><li>124</li></ol>\n"
            ],
            "text/markdown": "1. 20531\n2. 124\n\n\n",
            "text/latex": "\\begin{enumerate*}\n\\item 20531\n\\item 124\n\\end{enumerate*}\n",
            "text/plain": [
              "[1] 20531   124"
            ]
          },
          "metadata": {}
        },
        {
          "output_type": "display_data",
          "data": {
            "text/html": [
              "<style>\n",
              ".list-inline {list-style: none; margin:0; padding: 0}\n",
              ".list-inline>li {display: inline-block}\n",
              ".list-inline>li:not(:last-child)::after {content: \"\\00b7\"; padding: 0 .5ex}\n",
              "</style>\n",
              "<ol class=list-inline><li>20531</li><li>49</li></ol>\n"
            ],
            "text/markdown": "1. 20531\n2. 49\n\n\n",
            "text/latex": "\\begin{enumerate*}\n\\item 20531\n\\item 49\n\\end{enumerate*}\n",
            "text/plain": [
              "[1] 20531    49"
            ]
          },
          "metadata": {}
        }
      ],
      "source": [
        "\n",
        "\n",
        "#checks\n",
        "dim(geneExpBaseline)\n",
        "dim(geneExpComparison)"
      ]
    },
    {
      "cell_type": "markdown",
      "id": "facial-revolution",
      "metadata": {
        "id": "facial-revolution"
      },
      "source": [
        "#### Prep data in the right format for the function for Group Comp"
      ]
    },
    {
      "cell_type": "code",
      "execution_count": 25,
      "id": "suffering-slovenia",
      "metadata": {
        "id": "suffering-slovenia"
      },
      "outputs": [],
      "source": [
        "\n",
        "## Prep data to call function for Group Comp\n",
        "\n",
        "# RNA-seq data for function\n",
        "inputForGroupComp <- cbind(geneExpBaseline, geneExpComparison)\n",
        "\n",
        "labelsForGroupComp <- c(rep(\"alive\", nColBaseline),\n",
        "                          rep(\"dead\", nColComparision))"
      ]
    },
    {
      "cell_type": "code",
      "execution_count": 26,
      "id": "following-click",
      "metadata": {
        "id": "following-click",
        "outputId": "16b0214c-2fe5-48dc-b3fa-13f1323207d5",
        "colab": {
          "base_uri": "https://localhost:8080/",
          "height": 52
        }
      },
      "outputs": [
        {
          "output_type": "display_data",
          "data": {
            "text/html": [
              "<style>\n",
              ".list-inline {list-style: none; margin:0; padding: 0}\n",
              ".list-inline>li {display: inline-block}\n",
              ".list-inline>li:not(:last-child)::after {content: \"\\00b7\"; padding: 0 .5ex}\n",
              "</style>\n",
              "<ol class=list-inline><li>20531</li><li>173</li></ol>\n"
            ],
            "text/markdown": "1. 20531\n2. 173\n\n\n",
            "text/latex": "\\begin{enumerate*}\n\\item 20531\n\\item 173\n\\end{enumerate*}\n",
            "text/plain": [
              "[1] 20531   173"
            ]
          },
          "metadata": {}
        },
        {
          "output_type": "display_data",
          "data": {
            "text/html": [
              "<style>\n",
              ".list-inline {list-style: none; margin:0; padding: 0}\n",
              ".list-inline>li {display: inline-block}\n",
              ".list-inline>li:not(:last-child)::after {content: \"\\00b7\"; padding: 0 .5ex}\n",
              "</style>\n",
              "<ol class=list-inline><li>'alive'</li><li>'alive'</li><li>'alive'</li><li>'alive'</li><li>'alive'</li><li>'alive'</li></ol>\n"
            ],
            "text/markdown": "1. 'alive'\n2. 'alive'\n3. 'alive'\n4. 'alive'\n5. 'alive'\n6. 'alive'\n\n\n",
            "text/latex": "\\begin{enumerate*}\n\\item 'alive'\n\\item 'alive'\n\\item 'alive'\n\\item 'alive'\n\\item 'alive'\n\\item 'alive'\n\\end{enumerate*}\n",
            "text/plain": [
              "[1] \"alive\" \"alive\" \"alive\" \"alive\" \"alive\" \"alive\""
            ]
          },
          "metadata": {}
        }
      ],
      "source": [
        "#checks\n",
        "dim(inputForGroupComp)\n",
        "head(labelsForGroupComp)"
      ]
    },
    {
      "cell_type": "markdown",
      "id": "assigned-prague",
      "metadata": {
        "id": "assigned-prague"
      },
      "source": [
        "#### Data is now prepped. Call function to run Group comp analysis using EdgeR package"
      ]
    },
    {
      "cell_type": "code",
      "source": [
        "#Testing if google drive is mounted and whether you can locate this test file\n",
        "write.csv(clinDataAlive,\n",
        "    file = paste(outputFolder, \"_outputtest12345.csv\", sep=\"\"))"
      ],
      "metadata": {
        "id": "uEUHmERmpSq8"
      },
      "id": "uEUHmERmpSq8",
      "execution_count": 58,
      "outputs": []
    },
    {
      "cell_type": "markdown",
      "source": [
        "#### Call function to run `edgeR`\n",
        "\n",
        "The output files will be saved to google drive folder `/content/sample_data/` from where user can download the files to local computer.\n",
        "\n",
        "Note - this takes several minutes"
      ],
      "metadata": {
        "id": "fCTqXQ3ZrngR"
      },
      "id": "fCTqXQ3ZrngR"
    },
    {
      "cell_type": "code",
      "execution_count": 29,
      "id": "collectible-assumption",
      "metadata": {
        "id": "collectible-assumption"
      },
      "outputs": [],
      "source": [
        "## call function to run EdgeR\n",
        "funcSubsetForEdgeR(inputData = inputForGroupComp,\n",
        "           groupLabels = labelsForGroupComp,\n",
        "           baselineGrp = \"alive\",\n",
        "           compGrp = \"dead\",\n",
        "           outputFileLocation = \"/content/sample_data/outputedgeR\")"
      ]
    },
    {
      "cell_type": "markdown",
      "source": [
        "Now the group comparison analysis is over. The following output files are generated\n",
        "```\n",
        "* outputedgeR_ExactTest.csv\n",
        "* outputedgeR_GLM_LRT.csv\n",
        "* outputedgeR_GLM_QLF.csv\n",
        "* outputedgeR_MDSPlot.pdf\n",
        "* outputedgeR_mergedData.csv\n",
        "```"
      ],
      "metadata": {
        "id": "zt_HsJgCsHQh"
      },
      "id": "zt_HsJgCsHQh"
    },
    {
      "cell_type": "markdown",
      "id": "included-result",
      "metadata": {
        "id": "included-result"
      },
      "source": [
        "### Step 2 Read in the results of the group comp analysis."
      ]
    },
    {
      "cell_type": "markdown",
      "source": [
        "Note - the location is the same location where the edgeR output files were saved.The variable `groupCompOutputLocation` contains the full file path including file name was declared in the beginning"
      ],
      "metadata": {
        "id": "mItPSPBIsoVN"
      },
      "id": "mItPSPBIsoVN"
    },
    {
      "cell_type": "code",
      "execution_count": 38,
      "id": "contained-drink",
      "metadata": {
        "id": "contained-drink",
        "colab": {
          "base_uri": "https://localhost:8080/",
          "height": 34
        },
        "outputId": "f286c2f4-a618-4ed0-dcab-566687b92acd"
      },
      "outputs": [
        {
          "output_type": "display_data",
          "data": {
            "text/html": [
              "<style>\n",
              ".list-inline {list-style: none; margin:0; padding: 0}\n",
              ".list-inline>li {display: inline-block}\n",
              ".list-inline>li:not(:last-child)::after {content: \"\\00b7\"; padding: 0 .5ex}\n",
              "</style>\n",
              "<ol class=list-inline><li>17962</li><li>4</li></ol>\n"
            ],
            "text/markdown": "1. 17962\n2. 4\n\n\n",
            "text/latex": "\\begin{enumerate*}\n\\item 17962\n\\item 4\n\\end{enumerate*}\n",
            "text/plain": [
              "[1] 17962     4"
            ]
          },
          "metadata": {}
        }
      ],
      "source": [
        "## Read in EdgeR output. Set thresholds. Get gene names. Remove duplicates\n",
        "\n",
        "#17962 features. Make sure the data frame is a numeric data frame\n",
        "edgeRoutput <- read.csv(file = groupCompOutputLocation,\n",
        "                  header = T, stringsAsFactors = F, row.names = 1)\n",
        "\n",
        "### Set threshold values\n",
        "pValueCutOff <- 0.01\n",
        "logFCCutOff <- 1\n",
        "\n",
        "dim(edgeRoutput)"
      ]
    },
    {
      "cell_type": "markdown",
      "id": "racial-aerospace",
      "metadata": {
        "id": "racial-aerospace"
      },
      "source": [
        "Find out how many features with FDR < 0.01 and LogFoldChange >= 1.5 or <= -1.5"
      ]
    },
    {
      "cell_type": "code",
      "execution_count": 60,
      "id": "dimensional-charleston",
      "metadata": {
        "id": "dimensional-charleston",
        "outputId": "f46b91ba-84c1-4bf6-e504-3428fe5b1879",
        "colab": {
          "base_uri": "https://localhost:8080/"
        }
      },
      "outputs": [
        {
          "output_type": "stream",
          "name": "stdout",
          "text": [
            "[1] \"Features with FDR < 0.01, and Log Fold change >=1.5 or <= -1.5:\"\n",
            "[1] 649\n"
          ]
        }
      ],
      "source": [
        "### Find out how many features with FDR < 0.01 and LogFoldChange >= 1.5 or <= -1.5\n",
        "\n",
        "whichFeatures <- which((edgeRoutput$FDR <= 0.01) &\n",
        "                    (edgeRoutput$logFC >= 1.5 | edgeRoutput$logFC <= -1.5))\n",
        "print(\"Features with FDR < 0.01, and Log Fold change >=1.5 or <= -1.5:\")\n",
        "print(length(whichFeatures))\n",
        "shortResults <- edgeRoutput[whichFeatures, ] #save results from\n",
        "\n",
        "#save this short listed file\n",
        "write.csv(shortResults, file = paste(outputFolder, \"output_shortListResults.csv\", sep=\"\"))\n",
        "\n"
      ]
    },
    {
      "cell_type": "markdown",
      "source": [
        "### Step 3 - Cleaning output for next step"
      ],
      "metadata": {
        "id": "A1hFUNxJPAau"
      },
      "id": "A1hFUNxJPAau"
    },
    {
      "cell_type": "code",
      "source": [
        "#### Function to clean gene names\n",
        "funcSplit <- function(rep_gene) {\n",
        "    rep_gene_split <- unlist(strsplit(x = rep_gene, split = \"|\", fixed = TRUE))\n",
        "    gene <- rep_gene_split[1]\n",
        "    return(gene)\n",
        "    }\n",
        "\n",
        "geneListSplit <- apply(X = as.matrix(row.names(shortResults)),\n",
        "                           MARGIN = 1, FUN = funcSplit )\n",
        "head(geneListSplit)\n",
        "length(geneListSplit)"
      ],
      "metadata": {
        "colab": {
          "base_uri": "https://localhost:8080/",
          "height": 52
        },
        "id": "Iawp_m2OOV5F",
        "outputId": "9c920282-6c8b-4cfc-e064-f2de8c678dd7"
      },
      "id": "Iawp_m2OOV5F",
      "execution_count": 55,
      "outputs": [
        {
          "output_type": "display_data",
          "data": {
            "text/html": [
              "<style>\n",
              ".list-inline {list-style: none; margin:0; padding: 0}\n",
              ".list-inline>li {display: inline-block}\n",
              ".list-inline>li:not(:last-child)::after {content: \"\\00b7\"; padding: 0 .5ex}\n",
              "</style>\n",
              "<ol class=list-inline><li>'CHIA'</li><li>'GHRH'</li><li>'PGA3'</li><li>'PGA4'</li><li>'CRP'</li><li>'CYP1A1'</li></ol>\n"
            ],
            "text/markdown": "1. 'CHIA'\n2. 'GHRH'\n3. 'PGA3'\n4. 'PGA4'\n5. 'CRP'\n6. 'CYP1A1'\n\n\n",
            "text/latex": "\\begin{enumerate*}\n\\item 'CHIA'\n\\item 'GHRH'\n\\item 'PGA3'\n\\item 'PGA4'\n\\item 'CRP'\n\\item 'CYP1A1'\n\\end{enumerate*}\n",
            "text/plain": [
              "[1] \"CHIA\"   \"GHRH\"   \"PGA3\"   \"PGA4\"   \"CRP\"    \"CYP1A1\""
            ]
          },
          "metadata": {}
        },
        {
          "output_type": "display_data",
          "data": {
            "text/html": [
              "649"
            ],
            "text/markdown": "649",
            "text/latex": "649",
            "text/plain": [
              "[1] 649"
            ]
          },
          "metadata": {}
        }
      ]
    },
    {
      "cell_type": "code",
      "source": [
        "#remove duplicates, and NA values\n",
        "geneListSplit1 <- unique(geneListSplit)\n",
        "geneListSplit2 <- na.omit(geneListSplit1)\n",
        "\n",
        "head(geneListSplit2)\n",
        "length(geneListSplit2)\n",
        "\n",
        "#Save list of unique genes\n",
        "write.table(x = geneListSplit2,\n",
        "            file = paste(outputFolder, \"_shortListedUniqueGenes.tsv\", sep=\"\"),\n",
        "            quote = F, sep = \"\\t\", row.names = FALSE, col.names = F)"
      ],
      "metadata": {
        "colab": {
          "base_uri": "https://localhost:8080/",
          "height": 52
        },
        "id": "D_hAmCBRPG2n",
        "outputId": "149443d9-55cc-4d0d-be0a-3125e32fb46a"
      },
      "id": "D_hAmCBRPG2n",
      "execution_count": 54,
      "outputs": [
        {
          "output_type": "display_data",
          "data": {
            "text/html": [
              "<style>\n",
              ".list-inline {list-style: none; margin:0; padding: 0}\n",
              ".list-inline>li {display: inline-block}\n",
              ".list-inline>li:not(:last-child)::after {content: \"\\00b7\"; padding: 0 .5ex}\n",
              "</style>\n",
              "<ol class=list-inline><li>'CHIA'</li><li>'GHRH'</li><li>'PGA3'</li><li>'PGA4'</li><li>'CRP'</li><li>'CYP1A1'</li></ol>\n"
            ],
            "text/markdown": "1. 'CHIA'\n2. 'GHRH'\n3. 'PGA3'\n4. 'PGA4'\n5. 'CRP'\n6. 'CYP1A1'\n\n\n",
            "text/latex": "\\begin{enumerate*}\n\\item 'CHIA'\n\\item 'GHRH'\n\\item 'PGA3'\n\\item 'PGA4'\n\\item 'CRP'\n\\item 'CYP1A1'\n\\end{enumerate*}\n",
            "text/plain": [
              "[1] \"CHIA\"   \"GHRH\"   \"PGA3\"   \"PGA4\"   \"CRP\"    \"CYP1A1\""
            ]
          },
          "metadata": {}
        },
        {
          "output_type": "display_data",
          "data": {
            "text/html": [
              "649"
            ],
            "text/markdown": "649",
            "text/latex": "649",
            "text/plain": [
              "[1] 649"
            ]
          },
          "metadata": {}
        }
      ]
    },
    {
      "cell_type": "markdown",
      "id": "growing-albert",
      "metadata": {
        "id": "growing-albert"
      },
      "source": [
        "### Step 4 - Call function to run Enrichment analyasis"
      ]
    },
    {
      "cell_type": "code",
      "source": [
        "# Read in list of EnrichR databases\n",
        "dblist <- read.csv(file = enrichRFileLocation,\n",
        "                   header = F, stringsAsFactors = F)\n",
        "head(dblist)"
      ],
      "metadata": {
        "id": "qtQRJnfB9kJQ"
      },
      "id": "qtQRJnfB9kJQ",
      "execution_count": null,
      "outputs": []
    },
    {
      "cell_type": "code",
      "execution_count": 45,
      "id": "square-integration",
      "metadata": {
        "id": "square-integration",
        "colab": {
          "base_uri": "https://localhost:8080/",
          "height": 296
        },
        "outputId": "cfa1d5c3-b3ce-481d-9f73-9c06c34099dd"
      },
      "outputs": [
        {
          "output_type": "stream",
          "name": "stderr",
          "text": [
            "Warning message in file(file, ifelse(append, \"a\", \"w\")):\n",
            "“cannot open file '/content/sample/output_enrichR_shortListedUniqueGenes.tsv': No such file or directory”\n"
          ]
        },
        {
          "output_type": "error",
          "ename": "ERROR",
          "evalue": "ignored",
          "traceback": [
            "Error in file(file, ifelse(append, \"a\", \"w\")): cannot open the connection\nTraceback:\n",
            "1. funcSubsetForEnrichR(shortListResults = optionResults, filename1 = \"/content/sample_data/output_enrichR_results.csv\", \n .     outputFolder = \"/content/sample/output_enrichR\", dblist1 = dblist)",
            "2. write.table(x = geneListSplit2, file = paste(outputFolder, \"_shortListedUniqueGenes.tsv\", \n .     sep = \"\"), quote = F, sep = \"\\t\", row.names = FALSE, col.names = F)",
            "3. file(file, ifelse(append, \"a\", \"w\"))"
          ]
        }
      ],
      "source": [
        "####Calling function to subset gene results and run EnrichR for\n",
        "\n",
        "library(openxlsx)\n",
        "\n",
        "#call function to run Enrichment\n",
        "funcEnrichment(dblist1, #list of databases\n",
        "    geneListSplit2,  # unique gene names list\n",
        "    outputFileName2) #output file name\n",
        "\n",
        "\n",
        "funcSubsetForEnrichR(shortListResults = shortResults,\n",
        "                     filename1 = \"/content/sample_data/output_enrichR_results.csv\",\n",
        "                     outputFolder = \"/content/sample/output_enrichR\",\n",
        "                     dblist1 = dblist)"
      ]
    },
    {
      "cell_type": "markdown",
      "id": "monetary-pearl",
      "metadata": {
        "id": "monetary-pearl"
      },
      "source": [
        "#### All Analaysis steps done.\n"
      ]
    }
  ],
  "metadata": {
    "environment": {
      "name": "r-cpu.3-6.m65",
      "type": "gcloud",
      "uri": "gcr.io/deeplearning-platform-release/r-cpu.3-6:m65"
    },
    "kernelspec": {
      "display_name": "R",
      "name": "ir"
    },
    "language_info": {
      "name": "R"
    },
    "colab": {
      "provenance": [],
      "gpuType": "T4",
      "include_colab_link": true
    }
  },
  "nbformat": 4,
  "nbformat_minor": 5
}