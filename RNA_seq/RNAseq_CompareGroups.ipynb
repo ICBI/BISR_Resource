{
  "cells": [
    {
      "cell_type": "markdown",
      "metadata": {
        "id": "view-in-github",
        "colab_type": "text"
      },
      "source": [
        "<a href=\"https://colab.research.google.com/github/ICBI/BISR_Tutorials/blob/main/RNA_seq/RNAseq_CompareGroups.ipynb\" target=\"_parent\"><img src=\"https://colab.research.google.com/assets/colab-badge.svg\" alt=\"Open In Colab\"/></a>"
      ]
    },
    {
      "cell_type": "markdown",
      "id": "flexible-substitute",
      "metadata": {
        "id": "flexible-substitute"
      },
      "source": [
        "## Group comparision analysis example for VRE.\n",
        "Example using TCGA ESCA (Easophageal cancer) obtained from Broad Inst TCGA data repo Firebrowser (<http://firebrowse.org>)\n",
        "\n",
        "### Assumptions for analysis\n",
        "\n",
        "* User knows programming to be able to clean data and put it in the right format\n",
        "* Two input data files: Gene expression data from RNA-seq (raw counts), and clinical data\n",
        "* RNA-seq file format : Rows are features (gene names), Columns are samples. Only tumor samples were chosen for this analysis\n",
        "* RNA-seq file format : Features are assumed to be in this format `GeneName|GeneID` . Example shown here is from public TCGA data obtained from Firebrowser.\n",
        "* Clinical data: This is a cleaned file that contains two columns - patient ids and vital status (Dead/Alive)\n",
        "* User knows to identify baseline and comparison groups for analysis\n",
        "\n",
        "## Goal of this analysis\n",
        "* Use the gene expression data from RNA-seq (raw counts) obtained from tumor tissue of Esophageal cancer patients to compare Dead and Alive patients.\n",
        "* Baseline Group (less screwed up group) = Alive\n",
        "* Comparison Group (screwed up group) = Dead\n",
        "\n",
        "## Analysis Steps\n",
        "\n",
        "* Read in gene exp data\n",
        "* Read in clinical data file\n",
        "* Use the clinical data to separate gene expression data for baseline and comparison groups\n",
        "* Set labels for the groups\n",
        "* Call function to perform the group comparison analysis. This function will use the Bioconducor package `EdgeR` <https://bioconductor.org/packages/release/bioc/html/edgeR.html> . The package requires the RNA-seq data to be in the form of raw counts.\n",
        "* Read in the results of group comp analysis\n",
        "* Select threshold for short listing results. Ideal threshold would result in number of genes  less than 700 or 1000.\n",
        "* Call function to perform Enrichment Analysis. This is done using the EnrichR R package. <https://cran.r-project.org/web/packages/enrichR/index.html>"
      ]
    },
    {
      "cell_type": "markdown",
      "id": "meaningful-amendment",
      "metadata": {
        "id": "meaningful-amendment"
      },
      "source": [
        "### Step 0 - Before we start\n",
        "* Use terminal (shell) to copy the input files from the google drive `MyDrive/rna_seq`\n",
        "* Upload code files to the google drive base folder `MyDrive/rna_seq`\n"
      ]
    },
    {
      "cell_type": "code",
      "source": [
        "library(\"googledrive\")\n",
        "library(\"googlesheets4\")\n",
        "\n",
        "# Check if is running in Colab and redefine is_interactive()\n",
        "if (file.exists(\"/usr/local/lib/python3.7/dist-packages/google/colab/_ipython.py\")) {\n",
        "  suppressMessages({\n",
        "    install.packages(\"R.utils\")\n",
        "    library(R.utils)\n",
        "    library(httr)\n",
        "    library(rlang)\n",
        "  })\n",
        "  my_check <- function() {return(TRUE)}\n",
        "  reassignInPackage(\"is_interactive\", pkgName = \"httr\", my_check)\n",
        "  reassignInPackage(\"is_interactive\", pkgName = \"rlang\", my_check)\n",
        "}\n",
        "\n",
        "# Call Google Drive authentication forcing interactive login and save in cache\n",
        "googledrive::drive_auth(use_oob = TRUE, cache = TRUE)\n",
        "\n"
      ],
      "metadata": {
        "id": "B7FsJNUQmM4N"
      },
      "id": "B7FsJNUQmM4N",
      "execution_count": null,
      "outputs": []
    },
    {
      "cell_type": "code",
      "source": [
        "#testing R\n",
        "#called magic R cell to indicate R code in a python notebook\n",
        "\n",
        "test1 <- 5\n",
        "print(test1)"
      ],
      "metadata": {
        "id": "rs62l9w0POS4",
        "colab": {
          "base_uri": "https://localhost:8080/"
        },
        "outputId": "043582dc-1cc9-431d-8f79-a1c1e7aa17aa"
      },
      "id": "rs62l9w0POS4",
      "execution_count": 23,
      "outputs": [
        {
          "output_type": "stream",
          "name": "stdout",
          "text": [
            "[1] 5\n"
          ]
        }
      ]
    },
    {
      "cell_type": "markdown",
      "id": "continuous-scope",
      "metadata": {
        "id": "continuous-scope"
      },
      "source": [
        "### Install packages\n",
        "NOTE - this takes SEVERAL minutes to run"
      ]
    },
    {
      "cell_type": "code",
      "execution_count": 38,
      "id": "viral-boating",
      "metadata": {
        "id": "viral-boating",
        "outputId": "ef165315-7a9b-4e4b-e5c7-75c159919204",
        "colab": {
          "base_uri": "https://localhost:8080/"
        }
      },
      "outputs": [
        {
          "output_type": "stream",
          "name": "stderr",
          "text": [
            "Installing package into ‘/usr/local/lib/R/site-library’\n",
            "(as ‘lib’ is unspecified)\n",
            "\n",
            "Installing package into ‘/usr/local/lib/R/site-library’\n",
            "(as ‘lib’ is unspecified)\n",
            "\n",
            "also installing the dependency ‘Rcpp’\n",
            "\n",
            "\n"
          ]
        }
      ],
      "source": [
        "\n",
        "if(!requireNamespace(\"BiocManager\", quietly = TRUE))\n",
        "    install.packages(\"BiocManager\")\n",
        "install.packages(\"openxlsx\")\n",
        "library(openxlsx)\n",
        "library(stringr)"
      ]
    },
    {
      "cell_type": "code",
      "source": [
        "BiocManager::install(\"edgeR\")\n",
        "library(edgeR)"
      ],
      "metadata": {
        "id": "7YmC29jlmVqs",
        "outputId": "94089006-ecbe-4932-b095-2e409c08befe",
        "colab": {
          "base_uri": "https://localhost:8080/"
        }
      },
      "id": "7YmC29jlmVqs",
      "execution_count": 39,
      "outputs": [
        {
          "output_type": "stream",
          "name": "stderr",
          "text": [
            "'getOption(\"repos\")' replaces Bioconductor standard repositories, see\n",
            "'help(\"repositories\", package = \"BiocManager\")' for details.\n",
            "Replacement repositories:\n",
            "    CRAN: https://cran.rstudio.com\n",
            "\n",
            "Bioconductor version 3.17 (BiocManager 1.30.21), R 4.3.1 (2023-06-16)\n",
            "\n",
            "Installing package(s) 'BiocVersion', 'edgeR'\n",
            "\n",
            "also installing the dependencies ‘limma’, ‘locfit’\n",
            "\n",
            "\n",
            "Old packages: 'bit', 'broom', 'bslib', 'cpp11', 'curl', 'devtools', 'digest',\n",
            "  'gargle', 'gert', 'googledrive', 'googlesheets4', 'haven', 'highr',\n",
            "  'isoband', 'jsonlite', 'pkgbuild', 'pkgload', 'processx', 'rmarkdown',\n",
            "  'roxygen2', 'testthat', 'tidyverse', 'usethis', 'vctrs', 'whisker', 'boot',\n",
            "  'foreign'\n",
            "\n",
            "Loading required package: limma\n",
            "\n"
          ]
        }
      ]
    },
    {
      "cell_type": "code",
      "source": [
        "install.packages(\"enrichR\")\n",
        "library(enrichR)"
      ],
      "metadata": {
        "id": "14Se7uWUlXNa",
        "outputId": "483c493b-4cc0-4c90-e329-107c9b3b728a",
        "colab": {
          "base_uri": "https://localhost:8080/"
        }
      },
      "id": "14Se7uWUlXNa",
      "execution_count": 40,
      "outputs": [
        {
          "output_type": "stream",
          "name": "stderr",
          "text": [
            "Installing package into ‘/usr/local/lib/R/site-library’\n",
            "(as ‘lib’ is unspecified)\n",
            "\n"
          ]
        }
      ]
    },
    {
      "cell_type": "markdown",
      "id": "opening-bullet",
      "metadata": {
        "id": "opening-bullet"
      },
      "source": [
        "### Location of input files\n",
        "Note - When using github make sure to give the raw file links"
      ]
    },
    {
      "cell_type": "code",
      "execution_count": 25,
      "id": "genetic-newspaper",
      "metadata": {
        "id": "genetic-newspaper"
      },
      "outputs": [],
      "source": [
        "enrichRFileLocation <- \"https://raw.githubusercontent.com/ICBI/BISR_Tutorials/main/RNA_seq/input/20201203-EnrichR-Databases.txt\"\n",
        "\n",
        "geneExpLocation <- \"https://raw.githubusercontent.com/ICBI/BISR_Tutorials/main/RNA_seq/input/20210318_TCGA_ESCA_RNAseq_GeneExp_RawCounts_Tumor.tsv\"\n",
        "\n",
        "clinFileLocation <- \"https://raw.githubusercontent.com/ICBI/BISR_Tutorials/main/RNA_seq/input/TCGA_ESCA_ClinDataVitalStatus.tsv\"\n",
        "\n",
        "groupCompOutputLocation <- \"https://github.com/ICBI/BISR_Tutorials/blob/main/RNA_seq/input/output_edgeR_ExactTest.csv\""
      ]
    },
    {
      "cell_type": "markdown",
      "source": [
        "#### Load the R code files\n",
        "Note - When using github make sure to give the raw file links"
      ],
      "metadata": {
        "id": "gSlhFnXXpd-z"
      },
      "id": "gSlhFnXXpd-z"
    },
    {
      "cell_type": "code",
      "source": [
        "## call function to run EdgeR\n",
        "source(\"https://raw.githubusercontent.com/ICBI/BISR_Tutorials/main/RNA_seq/funcSubsetForEdgeR.R\")\n",
        "\n",
        "####Calling function to subset gene results and run EnrichR for each option\n",
        "source(\"https://raw.githubusercontent.com/ICBI/BISR_Tutorials/main/RNA_seq/funcSubsetForEnrichR.R\")"
      ],
      "metadata": {
        "id": "rERQKifRphkx"
      },
      "id": "rERQKifRphkx",
      "execution_count": 41,
      "outputs": []
    },
    {
      "cell_type": "markdown",
      "id": "sharp-routine",
      "metadata": {
        "id": "sharp-routine"
      },
      "source": [
        "### ** Part 1 - Group comparison analysis **"
      ]
    },
    {
      "cell_type": "markdown",
      "id": "motivated-counter",
      "metadata": {
        "id": "motivated-counter"
      },
      "source": [
        "#### Read in gene expression file"
      ]
    },
    {
      "cell_type": "code",
      "execution_count": null,
      "id": "wired-probability",
      "metadata": {
        "id": "wired-probability",
        "outputId": "4107619b-a962-4d90-b2d2-a758cb0d0e85",
        "colab": {
          "base_uri": "https://localhost:8080/",
          "height": 555
        }
      },
      "outputs": [
        {
          "output_type": "display_data",
          "data": {
            "text/html": [
              "<table class=\"dataframe\">\n",
              "<caption>A data.frame: 6 × 4</caption>\n",
              "<thead>\n",
              "\t<tr><th></th><th scope=col>TCGA.2H.A9GF</th><th scope=col>TCGA.2H.A9GG</th><th scope=col>TCGA.2H.A9GH</th><th scope=col>TCGA.2H.A9GI</th></tr>\n",
              "\t<tr><th></th><th scope=col>&lt;dbl&gt;</th><th scope=col>&lt;dbl&gt;</th><th scope=col>&lt;dbl&gt;</th><th scope=col>&lt;dbl&gt;</th></tr>\n",
              "</thead>\n",
              "<tbody>\n",
              "\t<tr><th scope=row>?|100130426</th><td>   1.05</td><td>   0.00</td><td>   1.02</td><td>   0.00</td></tr>\n",
              "\t<tr><th scope=row>?|100133144</th><td>  74.63</td><td>  54.07</td><td>  51.03</td><td>  46.24</td></tr>\n",
              "\t<tr><th scope=row>?|100134869</th><td>  45.37</td><td>  25.93</td><td>  62.97</td><td>   8.76</td></tr>\n",
              "\t<tr><th scope=row>?|10357</th><td> 165.00</td><td>  70.00</td><td> 201.98</td><td> 111.71</td></tr>\n",
              "\t<tr><th scope=row>?|10431</th><td>2158.00</td><td>2061.00</td><td>2078.00</td><td>1455.00</td></tr>\n",
              "\t<tr><th scope=row>?|136542</th><td>   0.00</td><td>   0.00</td><td>   0.00</td><td>   0.00</td></tr>\n",
              "</tbody>\n",
              "</table>\n"
            ],
            "text/markdown": "\nA data.frame: 6 × 4\n\n| <!--/--> | TCGA.2H.A9GF &lt;dbl&gt; | TCGA.2H.A9GG &lt;dbl&gt; | TCGA.2H.A9GH &lt;dbl&gt; | TCGA.2H.A9GI &lt;dbl&gt; |\n|---|---|---|---|---|\n| ?|100130426 |    1.05 |    0.00 |    1.02 |    0.00 |\n| ?|100133144 |   74.63 |   54.07 |   51.03 |   46.24 |\n| ?|100134869 |   45.37 |   25.93 |   62.97 |    8.76 |\n| ?|10357 |  165.00 |   70.00 |  201.98 |  111.71 |\n| ?|10431 | 2158.00 | 2061.00 | 2078.00 | 1455.00 |\n| ?|136542 |    0.00 |    0.00 |    0.00 |    0.00 |\n\n",
            "text/latex": "A data.frame: 6 × 4\n\\begin{tabular}{r|llll}\n  & TCGA.2H.A9GF & TCGA.2H.A9GG & TCGA.2H.A9GH & TCGA.2H.A9GI\\\\\n  & <dbl> & <dbl> & <dbl> & <dbl>\\\\\n\\hline\n\t?\\textbar{}100130426 &    1.05 &    0.00 &    1.02 &    0.00\\\\\n\t?\\textbar{}100133144 &   74.63 &   54.07 &   51.03 &   46.24\\\\\n\t?\\textbar{}100134869 &   45.37 &   25.93 &   62.97 &    8.76\\\\\n\t?\\textbar{}10357 &  165.00 &   70.00 &  201.98 &  111.71\\\\\n\t?\\textbar{}10431 & 2158.00 & 2061.00 & 2078.00 & 1455.00\\\\\n\t?\\textbar{}136542 &    0.00 &    0.00 &    0.00 &    0.00\\\\\n\\end{tabular}\n",
            "text/plain": [
              "            TCGA.2H.A9GF TCGA.2H.A9GG TCGA.2H.A9GH TCGA.2H.A9GI\n",
              "?|100130426    1.05         0.00         1.02         0.00     \n",
              "?|100133144   74.63        54.07        51.03        46.24     \n",
              "?|100134869   45.37        25.93        62.97         8.76     \n",
              "?|10357      165.00        70.00       201.98       111.71     \n",
              "?|10431     2158.00      2061.00      2078.00      1455.00     \n",
              "?|136542       0.00         0.00         0.00         0.00     "
            ]
          },
          "metadata": {}
        },
        {
          "output_type": "display_data",
          "data": {
            "text/html": [
              "<table class=\"dataframe\">\n",
              "<caption>A data.frame: 6 × 3</caption>\n",
              "<thead>\n",
              "\t<tr><th></th><th scope=col>TCGA.2H.A9GF</th><th scope=col>TCGA.2H.A9GG</th><th scope=col>TCGA.2H.A9GH</th></tr>\n",
              "\t<tr><th></th><th scope=col>&lt;dbl&gt;</th><th scope=col>&lt;dbl&gt;</th><th scope=col>&lt;dbl&gt;</th></tr>\n",
              "</thead>\n",
              "<tbody>\n",
              "\t<tr><th scope=row>DLGAP2|9228</th><td>   3</td><td>  11</td><td>  10</td></tr>\n",
              "\t<tr><th scope=row>DLGAP3|58512</th><td>  32</td><td> 943</td><td>  23</td></tr>\n",
              "\t<tr><th scope=row>DLGAP4|22839</th><td>7327</td><td>8041</td><td>5178</td></tr>\n",
              "\t<tr><th scope=row>DLGAP5|9787</th><td>2284</td><td> 650</td><td>2744</td></tr>\n",
              "\t<tr><th scope=row>DLK1|8788</th><td>   1</td><td>   0</td><td>   0</td></tr>\n",
              "\t<tr><th scope=row>DLK2|65989</th><td>   7</td><td> 175</td><td>   8</td></tr>\n",
              "</tbody>\n",
              "</table>\n"
            ],
            "text/markdown": "\nA data.frame: 6 × 3\n\n| <!--/--> | TCGA.2H.A9GF &lt;dbl&gt; | TCGA.2H.A9GG &lt;dbl&gt; | TCGA.2H.A9GH &lt;dbl&gt; |\n|---|---|---|---|\n| DLGAP2|9228 |    3 |   11 |   10 |\n| DLGAP3|58512 |   32 |  943 |   23 |\n| DLGAP4|22839 | 7327 | 8041 | 5178 |\n| DLGAP5|9787 | 2284 |  650 | 2744 |\n| DLK1|8788 |    1 |    0 |    0 |\n| DLK2|65989 |    7 |  175 |    8 |\n\n",
            "text/latex": "A data.frame: 6 × 3\n\\begin{tabular}{r|lll}\n  & TCGA.2H.A9GF & TCGA.2H.A9GG & TCGA.2H.A9GH\\\\\n  & <dbl> & <dbl> & <dbl>\\\\\n\\hline\n\tDLGAP2\\textbar{}9228 &    3 &   11 &   10\\\\\n\tDLGAP3\\textbar{}58512 &   32 &  943 &   23\\\\\n\tDLGAP4\\textbar{}22839 & 7327 & 8041 & 5178\\\\\n\tDLGAP5\\textbar{}9787 & 2284 &  650 & 2744\\\\\n\tDLK1\\textbar{}8788 &    1 &    0 &    0\\\\\n\tDLK2\\textbar{}65989 &    7 &  175 &    8\\\\\n\\end{tabular}\n",
            "text/plain": [
              "             TCGA.2H.A9GF TCGA.2H.A9GG TCGA.2H.A9GH\n",
              "DLGAP2|9228     3           11           10        \n",
              "DLGAP3|58512   32          943           23        \n",
              "DLGAP4|22839 7327         8041         5178        \n",
              "DLGAP5|9787  2284          650         2744        \n",
              "DLK1|8788       1            0            0        \n",
              "DLK2|65989      7          175            8        "
            ]
          },
          "metadata": {}
        }
      ],
      "source": [
        "#20531 rows features, 173 tumor samples columns\n",
        "geneExp <- read.csv(file = geneExpLocation,\n",
        "                    sep=\"\\t\", stringsAsFactors = F, row.names = 1)\n",
        "\n",
        "# First 20 rows - no gene names\n",
        "head(geneExp[1:20, 1:4])\n",
        "\n",
        "#View Rows 5000-5010 - can see gene names\n",
        "head(geneExp[5000:5010,1:3])"
      ]
    },
    {
      "cell_type": "markdown",
      "id": "excited-production",
      "metadata": {
        "id": "excited-production"
      },
      "source": [
        "#### Read in cleaned clinical data"
      ]
    },
    {
      "cell_type": "code",
      "execution_count": 28,
      "id": "included-internet",
      "metadata": {
        "id": "included-internet",
        "outputId": "5b3f9578-3ee1-4a06-b29b-ccf64683fb7a",
        "colab": {
          "base_uri": "https://localhost:8080/",
          "height": 286
        }
      },
      "outputs": [
        {
          "output_type": "display_data",
          "data": {
            "text/html": [
              "<table class=\"dataframe\">\n",
              "<caption>A data.frame: 6 × 3</caption>\n",
              "<thead>\n",
              "\t<tr><th></th><th scope=col>Colname</th><th scope=col>V1</th><th scope=col>V2</th></tr>\n",
              "\t<tr><th></th><th scope=col>&lt;int&gt;</th><th scope=col>&lt;chr&gt;</th><th scope=col>&lt;chr&gt;</th></tr>\n",
              "</thead>\n",
              "<tbody>\n",
              "\t<tr><th scope=row>1</th><td>1</td><td>TCGA.IC.A6RF</td><td>alive</td></tr>\n",
              "\t<tr><th scope=row>2</th><td>2</td><td>TCGA.JY.A6FB</td><td>alive</td></tr>\n",
              "\t<tr><th scope=row>3</th><td>3</td><td>TCGA.JY.A938</td><td>alive</td></tr>\n",
              "\t<tr><th scope=row>4</th><td>4</td><td>TCGA.L5.A43I</td><td>dead </td></tr>\n",
              "\t<tr><th scope=row>5</th><td>5</td><td>TCGA.L5.A43J</td><td>dead </td></tr>\n",
              "\t<tr><th scope=row>6</th><td>6</td><td>TCGA.L5.A43M</td><td>alive</td></tr>\n",
              "</tbody>\n",
              "</table>\n"
            ],
            "text/markdown": "\nA data.frame: 6 × 3\n\n| <!--/--> | Colname &lt;int&gt; | V1 &lt;chr&gt; | V2 &lt;chr&gt; |\n|---|---|---|---|\n| 1 | 1 | TCGA.IC.A6RF | alive |\n| 2 | 2 | TCGA.JY.A6FB | alive |\n| 3 | 3 | TCGA.JY.A938 | alive |\n| 4 | 4 | TCGA.L5.A43I | dead  |\n| 5 | 5 | TCGA.L5.A43J | dead  |\n| 6 | 6 | TCGA.L5.A43M | alive |\n\n",
            "text/latex": "A data.frame: 6 × 3\n\\begin{tabular}{r|lll}\n  & Colname & V1 & V2\\\\\n  & <int> & <chr> & <chr>\\\\\n\\hline\n\t1 & 1 & TCGA.IC.A6RF & alive\\\\\n\t2 & 2 & TCGA.JY.A6FB & alive\\\\\n\t3 & 3 & TCGA.JY.A938 & alive\\\\\n\t4 & 4 & TCGA.L5.A43I & dead \\\\\n\t5 & 5 & TCGA.L5.A43J & dead \\\\\n\t6 & 6 & TCGA.L5.A43M & alive\\\\\n\\end{tabular}\n",
            "text/plain": [
              "  Colname V1           V2   \n",
              "1 1       TCGA.IC.A6RF alive\n",
              "2 2       TCGA.JY.A6FB alive\n",
              "3 3       TCGA.JY.A938 alive\n",
              "4 4       TCGA.L5.A43I dead \n",
              "5 5       TCGA.L5.A43J dead \n",
              "6 6       TCGA.L5.A43M alive"
            ]
          },
          "metadata": {}
        }
      ],
      "source": [
        "\n",
        "\n",
        "# 185 sample  IDs\n",
        "clinData <- read.csv(file = clinFileLocation,\n",
        "                     sep = \"\\t\", stringsAsFactors = F)\n",
        "\n",
        "head(clinData)\n"
      ]
    },
    {
      "cell_type": "markdown",
      "id": "occasional-miami",
      "metadata": {
        "id": "occasional-miami"
      },
      "source": [
        "#### Subset clinical data  into two data frames - dead and alive"
      ]
    },
    {
      "cell_type": "code",
      "execution_count": 29,
      "id": "surprising-voltage",
      "metadata": {
        "id": "surprising-voltage"
      },
      "outputs": [],
      "source": [
        "\n",
        "\n",
        "## Subset clinical data patients into two data frames\n",
        "\n",
        "clinDataAlive <- subset(clinData, V2 == \"alive\") #128 patients\n",
        "clinDataDead <- subset(clinData, V2 == \"dead\") #57 patients dead\n"
      ]
    },
    {
      "cell_type": "code",
      "execution_count": 30,
      "id": "novel-headquarters",
      "metadata": {
        "id": "novel-headquarters",
        "outputId": "4d4554a0-733b-456a-ebc0-1d7697f57c47",
        "colab": {
          "base_uri": "https://localhost:8080/",
          "height": 34
        }
      },
      "outputs": [
        {
          "output_type": "display_data",
          "data": {
            "text/html": [
              "<style>\n",
              ".list-inline {list-style: none; margin:0; padding: 0}\n",
              ".list-inline>li {display: inline-block}\n",
              ".list-inline>li:not(:last-child)::after {content: \"\\00b7\"; padding: 0 .5ex}\n",
              "</style>\n",
              "<ol class=list-inline><li>128</li><li>3</li></ol>\n"
            ],
            "text/markdown": "1. 128\n2. 3\n\n\n",
            "text/latex": "\\begin{enumerate*}\n\\item 128\n\\item 3\n\\end{enumerate*}\n",
            "text/plain": [
              "[1] 128   3"
            ]
          },
          "metadata": {}
        }
      ],
      "source": [
        "#checks\n",
        "dim(clinDataAlive)"
      ]
    },
    {
      "cell_type": "markdown",
      "id": "center-davis",
      "metadata": {
        "id": "center-davis"
      },
      "source": [
        "#### Subset gene exp data  into two data frames - dead and alive"
      ]
    },
    {
      "cell_type": "code",
      "execution_count": 31,
      "id": "casual-sensitivity",
      "metadata": {
        "id": "casual-sensitivity"
      },
      "outputs": [],
      "source": [
        "\n",
        "## Subset gene exp data into two data frames - alive and dead\n",
        "#Make sure data is numerical format, not strings\n",
        "\n",
        "#Subset alive patients\n",
        "matchBaseline <- which(colnames(geneExp) %in% clinDataAlive$V1)\n",
        "geneExpBaseline <- geneExp[,matchBaseline] #124 samples alive\n",
        "\n",
        "#Subset dead patients\n",
        "matchComparison <- which(colnames(geneExp) %in% clinDataDead$V1)\n",
        "geneExpComparison<- geneExp[,matchComparison] # 49 samples dead\n",
        "\n",
        "#Get number of columns\n",
        "nColBaseline <- ncol(geneExpBaseline)\n",
        "nColComparision <- ncol(geneExpComparison)"
      ]
    },
    {
      "cell_type": "code",
      "execution_count": 32,
      "id": "natural-ireland",
      "metadata": {
        "id": "natural-ireland",
        "outputId": "53effe6b-4772-4469-df08-9f9116a0906b",
        "colab": {
          "base_uri": "https://localhost:8080/",
          "height": 52
        }
      },
      "outputs": [
        {
          "output_type": "display_data",
          "data": {
            "text/html": [
              "<style>\n",
              ".list-inline {list-style: none; margin:0; padding: 0}\n",
              ".list-inline>li {display: inline-block}\n",
              ".list-inline>li:not(:last-child)::after {content: \"\\00b7\"; padding: 0 .5ex}\n",
              "</style>\n",
              "<ol class=list-inline><li>20531</li><li>124</li></ol>\n"
            ],
            "text/markdown": "1. 20531\n2. 124\n\n\n",
            "text/latex": "\\begin{enumerate*}\n\\item 20531\n\\item 124\n\\end{enumerate*}\n",
            "text/plain": [
              "[1] 20531   124"
            ]
          },
          "metadata": {}
        },
        {
          "output_type": "display_data",
          "data": {
            "text/html": [
              "<style>\n",
              ".list-inline {list-style: none; margin:0; padding: 0}\n",
              ".list-inline>li {display: inline-block}\n",
              ".list-inline>li:not(:last-child)::after {content: \"\\00b7\"; padding: 0 .5ex}\n",
              "</style>\n",
              "<ol class=list-inline><li>20531</li><li>49</li></ol>\n"
            ],
            "text/markdown": "1. 20531\n2. 49\n\n\n",
            "text/latex": "\\begin{enumerate*}\n\\item 20531\n\\item 49\n\\end{enumerate*}\n",
            "text/plain": [
              "[1] 20531    49"
            ]
          },
          "metadata": {}
        }
      ],
      "source": [
        "\n",
        "\n",
        "#checks\n",
        "dim(geneExpBaseline)\n",
        "dim(geneExpComparison)"
      ]
    },
    {
      "cell_type": "markdown",
      "id": "facial-revolution",
      "metadata": {
        "id": "facial-revolution"
      },
      "source": [
        "#### Prep data in the right format for the function for Group Comp"
      ]
    },
    {
      "cell_type": "code",
      "execution_count": 33,
      "id": "suffering-slovenia",
      "metadata": {
        "id": "suffering-slovenia"
      },
      "outputs": [],
      "source": [
        "\n",
        "## Prep data to call function for Group Comp\n",
        "\n",
        "# RNA-seq data for function\n",
        "inputForGroupComp <- cbind(geneExpBaseline, geneExpComparison)\n",
        "\n",
        "labelsForGroupComp <- c(rep(\"alive\", nColBaseline),\n",
        "                          rep(\"dead\", nColComparision))"
      ]
    },
    {
      "cell_type": "code",
      "execution_count": 34,
      "id": "following-click",
      "metadata": {
        "id": "following-click",
        "outputId": "6ca174c5-1153-4a99-a7a7-8288c85dc78d",
        "colab": {
          "base_uri": "https://localhost:8080/",
          "height": 52
        }
      },
      "outputs": [
        {
          "output_type": "display_data",
          "data": {
            "text/html": [
              "<style>\n",
              ".list-inline {list-style: none; margin:0; padding: 0}\n",
              ".list-inline>li {display: inline-block}\n",
              ".list-inline>li:not(:last-child)::after {content: \"\\00b7\"; padding: 0 .5ex}\n",
              "</style>\n",
              "<ol class=list-inline><li>20531</li><li>173</li></ol>\n"
            ],
            "text/markdown": "1. 20531\n2. 173\n\n\n",
            "text/latex": "\\begin{enumerate*}\n\\item 20531\n\\item 173\n\\end{enumerate*}\n",
            "text/plain": [
              "[1] 20531   173"
            ]
          },
          "metadata": {}
        },
        {
          "output_type": "display_data",
          "data": {
            "text/html": [
              "<style>\n",
              ".list-inline {list-style: none; margin:0; padding: 0}\n",
              ".list-inline>li {display: inline-block}\n",
              ".list-inline>li:not(:last-child)::after {content: \"\\00b7\"; padding: 0 .5ex}\n",
              "</style>\n",
              "<ol class=list-inline><li>'alive'</li><li>'alive'</li><li>'alive'</li><li>'alive'</li><li>'alive'</li><li>'alive'</li></ol>\n"
            ],
            "text/markdown": "1. 'alive'\n2. 'alive'\n3. 'alive'\n4. 'alive'\n5. 'alive'\n6. 'alive'\n\n\n",
            "text/latex": "\\begin{enumerate*}\n\\item 'alive'\n\\item 'alive'\n\\item 'alive'\n\\item 'alive'\n\\item 'alive'\n\\item 'alive'\n\\end{enumerate*}\n",
            "text/plain": [
              "[1] \"alive\" \"alive\" \"alive\" \"alive\" \"alive\" \"alive\""
            ]
          },
          "metadata": {}
        }
      ],
      "source": [
        "#checks\n",
        "dim(inputForGroupComp)\n",
        "head(labelsForGroupComp)"
      ]
    },
    {
      "cell_type": "markdown",
      "id": "assigned-prague",
      "metadata": {
        "id": "assigned-prague"
      },
      "source": [
        "#### Data is now prepped. Call function to run Group comp analysis using EdgeR package"
      ]
    },
    {
      "cell_type": "code",
      "execution_count": 42,
      "id": "collectible-assumption",
      "metadata": {
        "id": "collectible-assumption",
        "outputId": "0a9e4a8a-59a3-47ee-9eac-72be12e9d770",
        "colab": {
          "base_uri": "https://localhost:8080/",
          "height": 240
        }
      },
      "outputs": [
        {
          "output_type": "error",
          "ename": "ERROR",
          "evalue": "ignored",
          "traceback": [
            "Error in pdf(paste(outFile, \"_MDSPlot.pdf\", sep = \"\"), width = 5, height = 5): cannot open file '/home/jupyter/tutorials/storage/output/edgeR_MDSPlot.pdf'\nTraceback:\n",
            "1. funcSubsetForEdgeR(inputData = inputForGroupComp, groupLabels = labelsForGroupComp, \n .     baselineGrp = \"alive\", compGrp = \"dead\", outputFileLocation = \"/home/jupyter/tutorials/storage/output/edgeR\")",
            "2. funcEdgeR(inputData = input2_Subset, grpData = group_subset, \n .     outFile = outputFileLocation)",
            "3. pdf(paste(outFile, \"_MDSPlot.pdf\", sep = \"\"), width = 5, height = 5)"
          ]
        }
      ],
      "source": [
        "## call function to run EdgeR\n",
        "funcSubsetForEdgeR(inputData = inputForGroupComp,\n",
        "           groupLabels = labelsForGroupComp,\n",
        "           baselineGrp = \"alive\",\n",
        "           compGrp = \"dead\",\n",
        "           outputFileLocation = \"/home/jupyter/tutorials/storage/output/edgeR\")"
      ]
    },
    {
      "cell_type": "markdown",
      "id": "included-result",
      "metadata": {
        "id": "included-result"
      },
      "source": [
        "#### Now the group comparison analysis is over.\n",
        "### ** Part 2 ** Read in the results of the group comp analysis. Set 4 different threshold options **"
      ]
    },
    {
      "cell_type": "code",
      "execution_count": null,
      "id": "contained-drink",
      "metadata": {
        "id": "contained-drink"
      },
      "outputs": [],
      "source": [
        "## Read in EdgeR output. Set thresholds. Get gene names. Remove duplicates\n",
        "\n",
        "#17962 features. Make sure the data frame is a numeric data frame\n",
        "edgeRoutput <- read.csv(file = groupCompOutputLocation,\n",
        "                  header = T, stringsAsFactors = F, row.names = 1)\n",
        "\n",
        "### Set threshold values\n",
        "pValueCutOff <- 0.01\n",
        "logFCCutOff <- 1\n"
      ]
    },
    {
      "cell_type": "markdown",
      "id": "wrong-generator",
      "metadata": {
        "id": "wrong-generator"
      },
      "source": [
        "#### Option 1 - find out how many features with p-value < 0.01"
      ]
    },
    {
      "cell_type": "code",
      "execution_count": null,
      "id": "mounted-textbook",
      "metadata": {
        "id": "mounted-textbook",
        "outputId": "4d61385e-e6d1-48c9-aa68-3483aca01b9b"
      },
      "outputs": [
        {
          "name": "stdout",
          "output_type": "stream",
          "text": [
            "[1] \"Option 1: Features with p-value < 0.01:\"\n",
            "[1] 6366\n"
          ]
        }
      ],
      "source": [
        "### Option 1 - find out how many features with p-value < 0.01\n",
        "\n",
        "which1 <- which(as.numeric(edgeRoutput$PValue) <= pValueCutOff)\n",
        "print(\"Option 1: Features with p-value < 0.01:\")\n",
        "print(length(which1))\n",
        "option1 <- edgeRoutput[which1, ] #save results from Option 1\n"
      ]
    },
    {
      "cell_type": "markdown",
      "id": "present-citizen",
      "metadata": {
        "id": "present-citizen"
      },
      "source": [
        "#### Option 2 - find out how many features with p-value < 0.01 and logFoldChange >= 1 or <= -1"
      ]
    },
    {
      "cell_type": "code",
      "execution_count": null,
      "id": "boxed-vessel",
      "metadata": {
        "id": "boxed-vessel",
        "outputId": "cd37a098-0011-48a8-dace-9ea62ba40c5d"
      },
      "outputs": [
        {
          "name": "stdout",
          "output_type": "stream",
          "text": [
            "[1] \"Option 2: features with p-value < 0.01 and Log Fold Change >=1 or <= -1:\"\n",
            "[1] 1274\n"
          ]
        }
      ],
      "source": [
        "### Option 2 - find out how many features with p-value < 0.01 and logFoldChange >= 1 or <= -1\n",
        "\n",
        "which2 <- which((edgeRoutput$PValue <= pValueCutOff) &\n",
        "                    (edgeRoutput$logFC >= logFCCutOff | edgeRoutput$logFC <= -logFCCutOff))\n",
        "print(\"Option 2: features with p-value < 0.01 and Log Fold Change >=1 or <= -1:\")\n",
        "print(length(which2))\n",
        "option2 <- edgeRoutput[which2, ] #save results from Option 2"
      ]
    },
    {
      "cell_type": "markdown",
      "id": "scheduled-relevance",
      "metadata": {
        "id": "scheduled-relevance"
      },
      "source": [
        "#### Option 3 - find out how many features with FDR < 0.01"
      ]
    },
    {
      "cell_type": "code",
      "execution_count": null,
      "id": "silver-plymouth",
      "metadata": {
        "id": "silver-plymouth",
        "outputId": "db79aed0-b604-4ff4-ac9c-e29c467fe752"
      },
      "outputs": [
        {
          "name": "stdout",
          "output_type": "stream",
          "text": [
            "[1] \"Option 3: features with FDR < 0.01:\"\n",
            "[1] 5598\n"
          ]
        }
      ],
      "source": [
        "### Option 3 - find out how many features with FDR < 0.01\n",
        "\n",
        "which3 <- which(as.numeric(edgeRoutput$FDR) <= 0.01)\n",
        "print(\"Option 3: features with FDR < 0.01:\")\n",
        "print(length(which3))\n",
        "option3 <- edgeRoutput[which3, ] #save results from Option 3"
      ]
    },
    {
      "cell_type": "markdown",
      "id": "racial-aerospace",
      "metadata": {
        "id": "racial-aerospace"
      },
      "source": [
        "#### Option 4 - find out how many features with FDR < 0.01 and LogFoldChange >= 1.5 or <= -1.5"
      ]
    },
    {
      "cell_type": "code",
      "execution_count": null,
      "id": "dimensional-charleston",
      "metadata": {
        "id": "dimensional-charleston",
        "outputId": "3295688a-3cce-462d-c75d-a4bfa1f81ece"
      },
      "outputs": [
        {
          "name": "stdout",
          "output_type": "stream",
          "text": [
            "[1] \"Option 4: Features with FDR < 0.01, and Log Fold change >=1.5 or <= -1.5:\"\n",
            "[1] 649\n"
          ]
        }
      ],
      "source": [
        "### Option 4 - find out how many features with FDR < 0.01 and LogFoldChange >= 1.5 or <= -1.5\n",
        "\n",
        "which4 <- which((edgeRoutput$FDR <= 0.01) &\n",
        "                    (edgeRoutput$logFC >= 1.5 | edgeRoutput$logFC <= -1.5))\n",
        "print(\"Option 4: Features with FDR < 0.01, and Log Fold change >=1.5 or <= -1.5:\")\n",
        "print(length(which4))\n",
        "option4 <- edgeRoutput[which4, ] #save results from Option 4"
      ]
    },
    {
      "cell_type": "markdown",
      "id": "growing-albert",
      "metadata": {
        "id": "growing-albert"
      },
      "source": [
        "### ** Part 3 **\n",
        "### Call function to run Enrichment analyasis (using EnrichR package) on the 4 options"
      ]
    },
    {
      "cell_type": "code",
      "execution_count": null,
      "id": "boxed-classic",
      "metadata": {
        "id": "boxed-classic",
        "outputId": "4e63c52a-682e-4f5e-dc4c-652fffd5814f"
      },
      "outputs": [
        {
          "name": "stdout",
          "output_type": "stream",
          "text": [
            "Uploading data to Enrichr... Done.\n",
            "  Querying KEGG_2019_Human... Done.\n",
            "Parsing results... Done.\n",
            "Uploading data to Enrichr... Done.\n",
            "  Querying WikiPathways_2019_Human... Done.\n",
            "Parsing results... Done.\n",
            "Uploading data to Enrichr... Done.\n",
            "  Querying KEGG_2019_Mouse... Done.\n",
            "Parsing results... Done.\n",
            "Uploading data to Enrichr... Done.\n",
            "  Querying GO_Biological_Process_2018... Done.\n",
            "Parsing results... Done.\n",
            "Uploading data to Enrichr... Done.\n",
            "  Querying Reactome_2016... Done.\n",
            "Parsing results... Done.\n",
            "Uploading data to Enrichr... Done.\n",
            "  Querying BioPlanet_2019... Done.\n",
            "Parsing results... Done.\n",
            "Uploading data to Enrichr... Done.\n",
            "  Querying ClinVar_2019... Done.\n",
            "Parsing results... Done.\n",
            "Uploading data to Enrichr... Done.\n",
            "  Querying TRRUST_Transcription_Factors_2019... Done.\n",
            "Parsing results... Done.\n",
            "Uploading data to Enrichr... Done.\n",
            "  Querying Transcription_Factor_PPIs... Done.\n",
            "Parsing results... Done.\n",
            "Uploading data to Enrichr... Done.\n",
            "  Querying TRANSFAC_and_JASPAR_PWMs... Done.\n",
            "Parsing results... Done.\n",
            "Uploading data to Enrichr... Done.\n",
            "  Querying TargetScan_microRNA_2017... Done.\n",
            "Parsing results... Done.\n",
            "Uploading data to Enrichr... Done.\n",
            "  Querying miRTarBase_2017... Done.\n",
            "Parsing results... Done.\n",
            "Uploading data to Enrichr... Done.\n",
            "  Querying DisGeNET... Done.\n",
            "Parsing results... Done.\n",
            "Uploading data to Enrichr... Done.\n",
            "  Querying OMIM_Disease... Done.\n",
            "Parsing results... Done.\n",
            "Uploading data to Enrichr... Done.\n",
            "  Querying Jensen_DISEASES... Done.\n",
            "Parsing results... Done.\n",
            "Uploading data to Enrichr... Done.\n",
            "  Querying Chromosome_Location... Done.\n",
            "Parsing results... Done.\n",
            "Uploading data to Enrichr... Done.\n",
            "  Querying VirusMINT... Done.\n",
            "Parsing results... Done.\n",
            "Uploading data to Enrichr... Done.\n",
            "  Querying HMDB_Metabolites... Done.\n",
            "Parsing results... Done.\n",
            "Uploading data to Enrichr... Done.\n",
            "  Querying dbGap... Done.\n",
            "Parsing results... Done.\n",
            "Uploading data to Enrichr... Done.\n",
            "  Querying Virus-Host_PPI_P-HIPSTer_2020... Done.\n",
            "Parsing results... Done.\n",
            "Uploading data to Enrichr... Done.\n",
            "  Querying MSigDB_Hallmark_2020... Done.\n",
            "Parsing results... Done.\n",
            "Uploading data to Enrichr... Done.\n",
            "  Querying ProteomicsDB_2020... Done.\n",
            "Parsing results... Done.\n",
            "Uploading data to Enrichr... Done.\n",
            "  Querying GWAS_Catalog_2019... Done.\n",
            "Parsing results... Done.\n",
            "Uploading data to Enrichr... Done.\n",
            "  Querying InterPro_Domains_2019... Done.\n",
            "Parsing results... Done.\n",
            "Uploading data to Enrichr... Done.\n",
            "  Querying CCLE_Proteomics_2020... Done.\n",
            "Parsing results... Done.\n",
            "Uploading data to Enrichr... Done.\n",
            "  Querying PheWeb_2019... Done.\n",
            "Parsing results... Done.\n",
            "Uploading data to Enrichr... Done.\n",
            "  Querying Pfam_Domains_2019... Done.\n",
            "Parsing results... Done.\n",
            "Uploading data to Enrichr... Done.\n",
            "  Querying Genes_Associated_with_NIH_Grants... Done.\n",
            "Parsing results... Done.\n"
          ]
        }
      ],
      "source": [
        "\n",
        "\n",
        "# Option 1\n",
        "library(openxlsx)\n",
        "funcSubsetForEnrichR(shortListResults = option1,\n",
        "                     filename1 = \"/home/jupyter/tutorials/storage/output/option1_shortlist_results.csv\",\n",
        "                     optionName1 = \"option1\")"
      ]
    },
    {
      "cell_type": "code",
      "execution_count": null,
      "id": "rental-check",
      "metadata": {
        "id": "rental-check",
        "outputId": "10247fbc-13bf-401c-c84a-f9e9539202bb"
      },
      "outputs": [
        {
          "name": "stdout",
          "output_type": "stream",
          "text": [
            "Uploading data to Enrichr... Done.\n",
            "  Querying KEGG_2019_Human... Done.\n",
            "Parsing results... Done.\n",
            "Uploading data to Enrichr... Done.\n",
            "  Querying WikiPathways_2019_Human... Done.\n",
            "Parsing results... Done.\n",
            "Uploading data to Enrichr... Done.\n",
            "  Querying KEGG_2019_Mouse... Done.\n",
            "Parsing results... Done.\n",
            "Uploading data to Enrichr... Done.\n",
            "  Querying GO_Biological_Process_2018... Done.\n",
            "Parsing results... Done.\n",
            "Uploading data to Enrichr... Done.\n",
            "  Querying Reactome_2016... Done.\n",
            "Parsing results... Done.\n",
            "Uploading data to Enrichr... Done.\n",
            "  Querying BioPlanet_2019... Done.\n",
            "Parsing results... Done.\n",
            "Uploading data to Enrichr... Done.\n",
            "  Querying ClinVar_2019... Done.\n",
            "Parsing results... Done.\n",
            "Uploading data to Enrichr... Done.\n",
            "  Querying TRRUST_Transcription_Factors_2019... Done.\n",
            "Parsing results... Done.\n",
            "Uploading data to Enrichr... Done.\n",
            "  Querying Transcription_Factor_PPIs... Done.\n",
            "Parsing results... Done.\n",
            "Uploading data to Enrichr... Done.\n",
            "  Querying TRANSFAC_and_JASPAR_PWMs... Done.\n",
            "Parsing results... Done.\n",
            "Uploading data to Enrichr... Done.\n",
            "  Querying TargetScan_microRNA_2017... Done.\n",
            "Parsing results... Done.\n",
            "Uploading data to Enrichr... Done.\n",
            "  Querying miRTarBase_2017... Done.\n",
            "Parsing results... Done.\n",
            "Uploading data to Enrichr... Done.\n",
            "  Querying DisGeNET... Done.\n",
            "Parsing results... Done.\n",
            "Uploading data to Enrichr... Done.\n",
            "  Querying OMIM_Disease... Done.\n",
            "Parsing results... Done.\n",
            "Uploading data to Enrichr... Done.\n",
            "  Querying Jensen_DISEASES... Done.\n",
            "Parsing results... Done.\n",
            "Uploading data to Enrichr... Done.\n",
            "  Querying Chromosome_Location... Done.\n",
            "Parsing results... Done.\n",
            "Uploading data to Enrichr... Done.\n",
            "  Querying VirusMINT... Done.\n",
            "Parsing results... Done.\n",
            "Uploading data to Enrichr... Done.\n",
            "  Querying HMDB_Metabolites... Done.\n",
            "Parsing results... Done.\n",
            "Uploading data to Enrichr... Done.\n",
            "  Querying dbGap... Done.\n",
            "Parsing results... Done.\n",
            "Uploading data to Enrichr... Done.\n",
            "  Querying Virus-Host_PPI_P-HIPSTer_2020... Done.\n",
            "Parsing results... Done.\n",
            "Uploading data to Enrichr... Done.\n",
            "  Querying MSigDB_Hallmark_2020... Done.\n",
            "Parsing results... Done.\n",
            "Uploading data to Enrichr... Done.\n",
            "  Querying ProteomicsDB_2020... Done.\n",
            "Parsing results... Done.\n",
            "Uploading data to Enrichr... Done.\n",
            "  Querying GWAS_Catalog_2019... Done.\n",
            "Parsing results... Done.\n",
            "Uploading data to Enrichr... Done.\n",
            "  Querying InterPro_Domains_2019... Done.\n",
            "Parsing results... Done.\n",
            "Uploading data to Enrichr... Done.\n",
            "  Querying CCLE_Proteomics_2020... Done.\n",
            "Parsing results... Done.\n",
            "Uploading data to Enrichr... Done.\n",
            "  Querying PheWeb_2019... Done.\n",
            "Parsing results... Done.\n",
            "Uploading data to Enrichr... Done.\n",
            "  Querying Pfam_Domains_2019... Done.\n",
            "Parsing results... Done.\n",
            "Uploading data to Enrichr... Done.\n",
            "  Querying Genes_Associated_with_NIH_Grants... Done.\n",
            "Parsing results... Done.\n"
          ]
        }
      ],
      "source": [
        "####Calling function to subset gene results and run EnrichR for\n",
        "# Option 2\n",
        "library(openxlsx)\n",
        "funcSubsetForEnrichR(shortListResults = option2,\n",
        "                     filename1 = \"/home/jupyter/tutorials/storage/output/option2_shortlist_results.csv\",\n",
        "                     optionName1 = \"option2\")"
      ]
    },
    {
      "cell_type": "code",
      "execution_count": null,
      "id": "alive-cassette",
      "metadata": {
        "id": "alive-cassette",
        "outputId": "95d50ad4-c19d-405c-b443-32b1069813cc"
      },
      "outputs": [
        {
          "name": "stdout",
          "output_type": "stream",
          "text": [
            "Uploading data to Enrichr... Done.\n",
            "  Querying KEGG_2019_Human... Done.\n",
            "Parsing results... Done.\n",
            "Uploading data to Enrichr... Done.\n",
            "  Querying WikiPathways_2019_Human... Done.\n",
            "Parsing results... Done.\n",
            "Uploading data to Enrichr... Done.\n",
            "  Querying KEGG_2019_Mouse... Done.\n",
            "Parsing results... Done.\n",
            "Uploading data to Enrichr... Done.\n",
            "  Querying GO_Biological_Process_2018... Done.\n",
            "Parsing results... Done.\n",
            "Uploading data to Enrichr... Done.\n",
            "  Querying Reactome_2016... Done.\n",
            "Parsing results... Done.\n",
            "Uploading data to Enrichr... Done.\n",
            "  Querying BioPlanet_2019... Done.\n",
            "Parsing results... Done.\n",
            "Uploading data to Enrichr... Done.\n",
            "  Querying ClinVar_2019... Done.\n",
            "Parsing results... Done.\n",
            "Uploading data to Enrichr... Done.\n",
            "  Querying TRRUST_Transcription_Factors_2019... Done.\n",
            "Parsing results... Done.\n",
            "Uploading data to Enrichr... Done.\n",
            "  Querying Transcription_Factor_PPIs... Done.\n",
            "Parsing results... Done.\n",
            "Uploading data to Enrichr... Done.\n",
            "  Querying TRANSFAC_and_JASPAR_PWMs... Done.\n",
            "Parsing results... Done.\n",
            "Uploading data to Enrichr... Done.\n",
            "  Querying TargetScan_microRNA_2017... Done.\n",
            "Parsing results... Done.\n",
            "Uploading data to Enrichr... Done.\n",
            "  Querying miRTarBase_2017... Done.\n",
            "Parsing results... Done.\n",
            "Uploading data to Enrichr... Done.\n",
            "  Querying DisGeNET... Done.\n",
            "Parsing results... Done.\n",
            "Uploading data to Enrichr... Done.\n",
            "  Querying OMIM_Disease... Done.\n",
            "Parsing results... Done.\n",
            "Uploading data to Enrichr... Done.\n",
            "  Querying Jensen_DISEASES... Done.\n",
            "Parsing results... Done.\n",
            "Uploading data to Enrichr... Done.\n",
            "  Querying Chromosome_Location... Done.\n",
            "Parsing results... Done.\n",
            "Uploading data to Enrichr... Done.\n",
            "  Querying VirusMINT... Done.\n",
            "Parsing results... Done.\n",
            "Uploading data to Enrichr... Done.\n",
            "  Querying HMDB_Metabolites... Done.\n",
            "Parsing results... Done.\n",
            "Uploading data to Enrichr... Done.\n",
            "  Querying dbGap... Done.\n",
            "Parsing results... Done.\n",
            "Uploading data to Enrichr... Done.\n",
            "  Querying Virus-Host_PPI_P-HIPSTer_2020... Done.\n",
            "Parsing results... Done.\n",
            "Uploading data to Enrichr... Done.\n",
            "  Querying MSigDB_Hallmark_2020... Done.\n",
            "Parsing results... Done.\n",
            "Uploading data to Enrichr... Done.\n",
            "  Querying ProteomicsDB_2020... Done.\n",
            "Parsing results... Done.\n",
            "Uploading data to Enrichr... Done.\n",
            "  Querying GWAS_Catalog_2019... Done.\n",
            "Parsing results... Done.\n",
            "Uploading data to Enrichr... Done.\n",
            "  Querying InterPro_Domains_2019... Done.\n",
            "Parsing results... Done.\n",
            "Uploading data to Enrichr... Done.\n",
            "  Querying CCLE_Proteomics_2020... Done.\n",
            "Parsing results... Done.\n",
            "Uploading data to Enrichr... Done.\n",
            "  Querying PheWeb_2019... Done.\n",
            "Parsing results... Done.\n",
            "Uploading data to Enrichr... Done.\n",
            "  Querying Pfam_Domains_2019... Done.\n",
            "Parsing results... Done.\n",
            "Uploading data to Enrichr... Done.\n",
            "  Querying Genes_Associated_with_NIH_Grants... Done.\n",
            "Parsing results... Done.\n"
          ]
        }
      ],
      "source": [
        "####Calling function to subset gene results and run EnrichR for\n",
        "# Option 3\n",
        "library(openxlsx)\n",
        "funcSubsetForEnrichR(shortListResults = option3,\n",
        "                     filename1 = \"/home/jupyter/tutorials/storage/output/option3_shortlist_results.csv\",\n",
        "                     optionName1 = \"option3\")"
      ]
    },
    {
      "cell_type": "code",
      "execution_count": null,
      "id": "square-integration",
      "metadata": {
        "id": "square-integration"
      },
      "outputs": [],
      "source": [
        "####Calling function to subset gene results and run EnrichR for\n",
        "# Option 4\n",
        "library(openxlsx)\n",
        "funcSubsetForEnrichR(shortListResults = option4,\n",
        "                     filename1 = \"/home/jupyter/tutorials/storage/output/option4_shortlist_results.csv\",\n",
        "                     optionName1 = \"option4\")"
      ]
    },
    {
      "cell_type": "markdown",
      "id": "monetary-pearl",
      "metadata": {
        "id": "monetary-pearl"
      },
      "source": [
        "#### All Analaysis steps done.\n"
      ]
    }
  ],
  "metadata": {
    "environment": {
      "name": "r-cpu.3-6.m65",
      "type": "gcloud",
      "uri": "gcr.io/deeplearning-platform-release/r-cpu.3-6:m65"
    },
    "kernelspec": {
      "display_name": "R",
      "name": "ir"
    },
    "language_info": {
      "name": "R"
    },
    "colab": {
      "provenance": [],
      "gpuType": "T4",
      "include_colab_link": true
    }
  },
  "nbformat": 4,
  "nbformat_minor": 5
}